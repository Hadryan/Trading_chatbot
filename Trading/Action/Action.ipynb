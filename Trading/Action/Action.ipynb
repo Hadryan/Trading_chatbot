{
 "metadata": {
  "language_info": {
   "codemirror_mode": {
    "name": "ipython",
    "version": 3
   },
   "file_extension": ".py",
   "mimetype": "text/x-python",
   "name": "python",
   "nbconvert_exporter": "python",
   "pygments_lexer": "ipython3",
   "version": "3.8.5-final"
  },
  "orig_nbformat": 2,
  "kernelspec": {
   "name": "python_defaultSpec_1598900290767",
   "display_name": "Python 3.8.5 64-bit"
  }
 },
 "nbformat": 4,
 "nbformat_minor": 2,
 "cells": [
  {
   "cell_type": "code",
   "execution_count": 7,
   "metadata": {},
   "outputs": [],
   "source": [
    "#Attention il va ecraser le fichier existant\n",
    "with open('Action.csv', 'w') as outcsv:\n",
    "    headerrr=['In','time','FB','AMZN','AAPL','KO','EA','MCD','TSLA','V','WMT']\n",
    "    writer = csv.DictWriter(outcsv, fieldnames = headerrr)\n",
    "    writer.writeheader()"
   ]
  },
  {
   "cell_type": "code",
   "execution_count": 8,
   "metadata": {},
   "outputs": [],
   "source": [
    "import requests\n",
    "import pandas as pd\n",
    "import datetime\n",
    "from bs4 import BeautifulSoup\n",
    "import csv"
   ]
  },
  {
   "cell_type": "code",
   "execution_count": 9,
   "metadata": {},
   "outputs": [],
   "source": [
    "#web_content=real_time_price('EURUSD')\n",
    "#print(web_content)\n",
    "\n",
    "HSI=['FB','AMZN','AAPL','KO','EA','MCD','TSLA','V','WMT']\n",
    "\n",
    "headerrr=[\"indice\",\"time\",'FB','AMZN','AAPL','KO','EA','MCD','TSLA','V','WMT']"
   ]
  },
  {
   "cell_type": "code",
   "execution_count": 10,
   "metadata": {},
   "outputs": [],
   "source": [
    "def real_time_price(stock_code):\n",
    "        url=('https://finance.yahoo.com/quote/')+stock_code + ('?p=')+stock_code +('&.tsrc=fin-srch')  \n",
    "        r=requests.get(url) \n",
    "\n",
    "        web_content = BeautifulSoup(r.text,'lxml')\n",
    "        web_content = web_content.find('div',{\"class\":'My(6px) Pos(r) smartphone_Mt(6px)'})\n",
    "        web_content = web_content.find('span').text\n",
    "\n",
    "        if web_content ==[]:\n",
    "            web_content='99999'\n",
    "        \n",
    "        return web_content"
   ]
  },
  {
   "cell_type": "code",
   "execution_count": 5,
   "metadata": {
    "tags": []
   },
   "outputs": [
    {
     "output_type": "stream",
     "name": "stdout",
     "text": "['2020-08-31 20:58:50', '294.76', '3,487.72', '130.53', '49.58', '138.55', '214.07', '494.90', '212.19', '137.88']\n['2020-08-31 20:59:04', '294.74', '3,487.84', '130.51', '49.60', '138.56', '214.10', '494.48', '212.15', '137.93']\n['2020-08-31 20:59:27', '294.71', '3,488.08', '130.54', '49.60', '138.56', '214.07', '494.72', '212.11', '137.84']\n['2020-08-31 20:59:47', '294.75', '3,487.62', '130.54', '49.58', '138.55', '214.04', '494.53', '212.10', '137.81']\n['2020-08-31 21:00:17', '294.68', '3,487.83', '130.53', '49.58', '138.54', '214.12', '496.10', '212.16', '137.81']\n['2020-08-31 21:00:38', '294.80', '3,487.77', '130.55', '49.60', '138.58', '214.07', '496.44', '212.17', '137.80']\n['2020-08-31 21:00:59', '294.84', '3,486.00', '130.46', '49.60', '138.57', '214.05', '494.80', '212.16', '137.85']\n['2020-08-31 21:01:25', '294.79', '3,485.60', '130.44', '49.60', '138.52', '214.08', '494.64', '212.17', '137.86']\n['2020-08-31 21:01:37', '294.77', '3,485.97', '130.48', '49.60', '138.52', '214.09', '495.52', '212.15', '137.86']\n['2020-08-31 21:01:50', '294.86', '3,485.97', '130.43', '49.60', '138.53', '214.09', '495.43', '212.09', '137.81']\n['2020-08-31 21:02:14', '294.76', '3,485.50', '130.40', '49.60', '138.52', '214.05', '494.24', '212.04', '137.82']\n['2020-08-31 21:02:32', '294.73', '3,484.20', '130.26', '49.58', '138.50', '214.07', '493.74', '212.00', '137.79']\n['2020-08-31 21:02:53', '294.60', '3,482.06', '130.12', '49.56', '138.45', '213.97', '491.15', '211.96', '137.73']\n['2020-08-31 21:03:07', '294.54', '3,481.71', '130.11', '49.55', '138.47', '213.97', '491.77', '212.01', '137.74']\n['2020-08-31 21:03:22', '294.58', '3,481.15', '130.08', '49.56', '138.41', '213.98', '492.45', '211.94', '137.73']\n['2020-08-31 21:03:40', '294.45', '3,478.07', '130.03', '49.54', '138.43', '213.98', '492.77', '211.93', '137.78']\n['2020-08-31 21:03:52', '294.44', '3,477.00', '130.05', '49.56', '138.46', '213.95', '493.01', '211.98', '137.77']\n['2020-08-31 21:04:06', '294.56', '3,477.99', '130.09', '49.56', '138.46', '213.95', '493.30', '211.94', '137.79']\n['2020-08-31 21:04:19', '294.56', '3,477.98', '129.98', '49.56', '138.46', '213.93', '492.19', '211.98', '137.79']\n['2020-08-31 21:04:52', '294.60', '3,481.52', '130.03', '49.56', '138.46', '214.08', '492.13', '211.97', '137.82']\n['2020-08-31 21:05:37', '294.67', '3,480.38', '129.98', '49.56', '138.53', '214.08', '493.49', '212.14', '137.89']\n['2020-08-31 21:06:57', '295.10', '3,485.40', '130.15', '49.62', '138.53', '214.13', '494.99', '212.18', '137.83']\n['2020-08-31 21:07:11', '295.20', '3,483.85', '130.09', '49.63', '138.57', '214.13', '495.42', '212.19', '137.83']\n['2020-08-31 21:07:27', '295.13', '3,483.85', '130.07', '49.63', '138.58', '214.13', '494.76', '212.18', '137.82']\n['2020-08-31 21:07:47', '295.21', '3,483.50', '130.04', '49.63', '138.55', '214.13', '494.55', '212.17', '137.80']\n['2020-08-31 21:07:59', '295.33', '3,483.50', '130.05', '49.63', '138.55', '214.13', '494.83', '212.20', '137.83']\n['2020-08-31 21:08:12', '295.32', '3,483.50', '130.06', '49.63', '138.56', '214.05', '494.59', '212.20', '137.82']\n['2020-08-31 21:08:25', '295.56', '3,484.79', '130.11', '49.63', '138.62', '214.07', '494.89', '212.21', '137.81']\n['2020-08-31 21:08:47', '295.62', '3,484.56', '130.08', '49.63', '138.59', '214.10', '495.30', '212.20', '137.76']\n['2020-08-31 21:09:01', '295.61', '3,483.45', '130.03', '49.63', '138.57', '214.09', '494.68', '212.18', '137.77']\n['2020-08-31 21:09:16', '295.46', '3,483.83', '130.07', '49.63', '138.58', '214.09', '495.25', '212.20', '137.74']\n['2020-08-31 21:09:30', '295.52', '3,484.05', '130.09', '49.63', '138.59', '214.10', '494.90', '212.12', '137.74']\n['2020-08-31 21:09:47', '295.58', '3,483.44', '130.11', '49.63', '138.63', '214.09', '494.79', '212.12', '137.72']\n['2020-08-31 21:10:03', '295.66', '3,483.44', '130.08', '49.63', '138.62', '214.09', '494.45', '212.11', '137.74']\n['2020-08-31 21:10:17', '295.69', '3,483.27', '130.05', '49.63', '138.63', '214.09', '494.71', '212.02', '137.76']\n['2020-08-31 21:10:31', '295.60', '3,484.12', '130.03', '49.63', '138.57', '214.05', '494.75', '212.03', '137.77']\n['2020-08-31 21:10:46', '295.54', '3,483.97', '130.03', '49.62', '138.57', '214.03', '494.58', '212.03', '137.79']\n['2020-08-31 21:11:00', '295.46', '3,482.60', '130.03', '49.61', '138.55', '214.01', '494.22', '212.02', '137.81']\n['2020-08-31 21:11:18', '295.60', '3,483.37', '130.05', '49.62', '138.51', '214.01', '494.25', '211.97', '137.82']\n['2020-08-31 21:11:37', '295.61', '3,483.23', '130.05', '49.60', '138.53', '213.95', '493.93', '211.95', '137.83']\n['2020-08-31 21:11:51', '295.57', '3,483.01', '130.03', '49.58', '138.47', '214.03', '493.19', '211.99', '137.83']\n['2020-08-31 21:12:12', '295.43', '3,482.65', '130.05', '49.62', '138.47', '214.05', '493.49', '212.05', '137.83']\n['2020-08-31 21:12:26', '295.39', '3,481.10', '130.07', '49.61', '138.48', '214.05', '493.43', '212.02', '137.78']\n['2020-08-31 21:12:43', '295.41', '3,481.66', '130.07', '49.60', '138.47', '214.03', '493.35', '212.01', '137.75']\n['2020-08-31 21:13:00', '295.54', '3,481.25', '130.10', '49.60', '138.47', '214.02', '493.90', '212.04', '137.80']\n['2020-08-31 21:13:20', '295.63', '3,482.23', '130.20', '49.61', '138.47', '214.02', '495.00', '212.03', '137.78']\n['2020-08-31 21:13:36', '295.55', '3,482.23', '130.22', '49.60', '138.41', '214.09', '494.29', '212.02', '137.76']\n['2020-08-31 21:13:53', '295.51', '3,481.63', '130.24', '49.60', '138.40', '214.08', '494.62', '211.98', '137.76']\n['2020-08-31 21:14:07', '295.63', '3,481.63', '130.24', '49.60', '138.40', '214.04', '494.76', '211.93', '137.73']\n['2020-08-31 21:14:23', '295.41', '3,481.00', '130.23', '49.60', '138.42', '214.03', '494.84', '211.90', '137.71']\n['2020-08-31 21:14:40', '295.50', '3,480.69', '130.21', '49.60', '138.39', '214.03', '495.13', '211.93', '137.60']\n['2020-08-31 21:14:57', '295.45', '3,480.69', '130.21', '49.61', '138.36', '214.03', '495.63', '211.98', '137.66']\n['2020-08-31 21:15:13', '295.42', '3,480.64', '130.19', '49.60', '138.34', '214.02', '495.43', '211.96', '137.65']\n['2020-08-31 21:15:26', '295.17', '3,480.60', '130.16', '49.60', '138.35', '213.99', '495.36', '211.94', '137.62']\n['2020-08-31 21:15:38', '295.19', '3,479.76', '130.07', '49.60', '138.37', '213.97', '495.27', '211.91', '137.63']\n['2020-08-31 21:15:54', '295.26', '3,479.76', '130.05', '49.60', '138.38', '213.97', '495.71', '211.92', '137.65']\n['2020-08-31 21:16:09', '295.29', '3,478.99', '130.05', '49.62', '138.38', '214.01', '495.33', '212.00', '137.66']\n['2020-08-31 21:16:22', '295.51', '3,479.42', '130.06', '49.62', '138.36', '214.01', '494.77', '211.98', '137.69']\n['2020-08-31 21:16:35', '295.43', '3,478.50', '130.04', '49.62', '138.39', '214.01', '495.19', '212.02', '137.71']\n['2020-08-31 21:16:48', '295.39', '3,478.47', '130.06', '49.62', '138.40', '214.01', '495.48', '212.02', '137.75']\n['2020-08-31 21:17:01', '295.50', '3,478.47', '130.06', '49.60', '138.38', '214.05', '495.10', '212.02', '137.75']\n['2020-08-31 21:17:14', '295.32', '3,479.56', '130.10', '49.60', '138.38', '214.05', '495.07', '212.00', '137.75']\n['2020-08-31 21:17:25', '295.32', '3,479.56', '130.07', '49.60', '138.35', '213.99', '495.18', '211.90', '137.77']\n['2020-08-31 21:17:37', '295.27', '3,478.00', '130.01', '49.60', '138.34', '213.94', '495.30', '211.89', '137.78']\n['2020-08-31 21:17:48', '295.41', '3,478.00', '129.99', '49.60', '138.32', '213.96', '495.66', '211.96', '137.82']\n['2020-08-31 21:18:00', '295.43', '3,478.97', '130.00', '49.60', '138.33', '213.96', '495.62', '211.96', '137.82']\n['2020-08-31 21:18:13', '295.44', '3,478.97', '129.96', '49.60', '138.33', '213.96', '495.34', '211.90', '137.77']\n['2020-08-31 21:18:26', '295.30', '3,478.91', '129.91', '49.59', '138.33', '213.96', '496.48', '211.89', '137.76']\n['2020-08-31 21:18:37', '295.35', '3,478.73', '129.91', '49.59', '138.33', '213.90', '496.78', '211.87', '137.74']\n['2020-08-31 21:18:51', '295.35', '3,479.22', '129.87', '49.58', '138.30', '213.91', '496.99', '211.92', '137.76']\n['2020-08-31 21:19:03', '295.36', '3,479.05', '129.88', '49.59', '138.40', '213.94', '496.50', '211.95', '137.75']\n['2020-08-31 21:19:18', '295.45', '3,478.35', '129.86', '49.59', '138.39', '213.94', '497.32', '211.87', '137.66']\n['2020-08-31 21:19:32', '295.41', '3,477.46', '129.80', '49.58', '138.38', '213.94', '497.37', '211.85', '137.65']\n['2020-08-31 21:19:44', '295.34', '3,475.00', '129.71', '49.59', '138.37', '213.82', '495.95', '211.80', '137.65']\n['2020-08-31 21:19:56', '295.17', '3,474.98', '129.66', '49.56', '138.35', '213.80', '496.50', '211.74', '137.66']\n['2020-08-31 21:20:09', '295.30', '3,474.25', '129.63', '49.56', '138.35', '213.84', '496.93', '211.65', '137.67']\n['2020-08-31 21:20:24', '295.19', '3,472.56', '129.54', '49.56', '138.35', '213.84', '496.58', '211.62', '137.66']\n"
    },
    {
     "output_type": "error",
     "ename": "ChunkedEncodingError",
     "evalue": "('Connection broken: IncompleteRead(0 bytes read)', IncompleteRead(0 bytes read))",
     "traceback": [
      "\u001b[1;31m---------------------------------------------------------------------------\u001b[0m",
      "\u001b[1;31mValueError\u001b[0m                                Traceback (most recent call last)",
      "\u001b[1;32mC:\\Python\\Python38\\lib\\site-packages\\urllib3\\response.py\u001b[0m in \u001b[0;36m_update_chunk_length\u001b[1;34m(self)\u001b[0m\n\u001b[0;32m    695\u001b[0m         \u001b[1;32mtry\u001b[0m\u001b[1;33m:\u001b[0m\u001b[1;33m\u001b[0m\u001b[1;33m\u001b[0m\u001b[0m\n\u001b[1;32m--> 696\u001b[1;33m             \u001b[0mself\u001b[0m\u001b[1;33m.\u001b[0m\u001b[0mchunk_left\u001b[0m \u001b[1;33m=\u001b[0m \u001b[0mint\u001b[0m\u001b[1;33m(\u001b[0m\u001b[0mline\u001b[0m\u001b[1;33m,\u001b[0m \u001b[1;36m16\u001b[0m\u001b[1;33m)\u001b[0m\u001b[1;33m\u001b[0m\u001b[1;33m\u001b[0m\u001b[0m\n\u001b[0m\u001b[0;32m    697\u001b[0m         \u001b[1;32mexcept\u001b[0m \u001b[0mValueError\u001b[0m\u001b[1;33m:\u001b[0m\u001b[1;33m\u001b[0m\u001b[1;33m\u001b[0m\u001b[0m\n",
      "\u001b[1;31mValueError\u001b[0m: invalid literal for int() with base 16: b''",
      "\nDuring handling of the above exception, another exception occurred:\n",
      "\u001b[1;31mIncompleteRead\u001b[0m                            Traceback (most recent call last)",
      "\u001b[1;32mC:\\Python\\Python38\\lib\\site-packages\\urllib3\\response.py\u001b[0m in \u001b[0;36m_error_catcher\u001b[1;34m(self)\u001b[0m\n\u001b[0;32m    435\u001b[0m             \u001b[1;32mtry\u001b[0m\u001b[1;33m:\u001b[0m\u001b[1;33m\u001b[0m\u001b[1;33m\u001b[0m\u001b[0m\n\u001b[1;32m--> 436\u001b[1;33m                 \u001b[1;32myield\u001b[0m\u001b[1;33m\u001b[0m\u001b[1;33m\u001b[0m\u001b[0m\n\u001b[0m\u001b[0;32m    437\u001b[0m \u001b[1;33m\u001b[0m\u001b[0m\n",
      "\u001b[1;32mC:\\Python\\Python38\\lib\\site-packages\\urllib3\\response.py\u001b[0m in \u001b[0;36mread_chunked\u001b[1;34m(self, amt, decode_content)\u001b[0m\n\u001b[0;32m    762\u001b[0m             \u001b[1;32mwhile\u001b[0m \u001b[1;32mTrue\u001b[0m\u001b[1;33m:\u001b[0m\u001b[1;33m\u001b[0m\u001b[1;33m\u001b[0m\u001b[0m\n\u001b[1;32m--> 763\u001b[1;33m                 \u001b[0mself\u001b[0m\u001b[1;33m.\u001b[0m\u001b[0m_update_chunk_length\u001b[0m\u001b[1;33m(\u001b[0m\u001b[1;33m)\u001b[0m\u001b[1;33m\u001b[0m\u001b[1;33m\u001b[0m\u001b[0m\n\u001b[0m\u001b[0;32m    764\u001b[0m                 \u001b[1;32mif\u001b[0m \u001b[0mself\u001b[0m\u001b[1;33m.\u001b[0m\u001b[0mchunk_left\u001b[0m \u001b[1;33m==\u001b[0m \u001b[1;36m0\u001b[0m\u001b[1;33m:\u001b[0m\u001b[1;33m\u001b[0m\u001b[1;33m\u001b[0m\u001b[0m\n",
      "\u001b[1;32mC:\\Python\\Python38\\lib\\site-packages\\urllib3\\response.py\u001b[0m in \u001b[0;36m_update_chunk_length\u001b[1;34m(self)\u001b[0m\n\u001b[0;32m    699\u001b[0m             \u001b[0mself\u001b[0m\u001b[1;33m.\u001b[0m\u001b[0mclose\u001b[0m\u001b[1;33m(\u001b[0m\u001b[1;33m)\u001b[0m\u001b[1;33m\u001b[0m\u001b[1;33m\u001b[0m\u001b[0m\n\u001b[1;32m--> 700\u001b[1;33m             \u001b[1;32mraise\u001b[0m \u001b[0mhttplib\u001b[0m\u001b[1;33m.\u001b[0m\u001b[0mIncompleteRead\u001b[0m\u001b[1;33m(\u001b[0m\u001b[0mline\u001b[0m\u001b[1;33m)\u001b[0m\u001b[1;33m\u001b[0m\u001b[1;33m\u001b[0m\u001b[0m\n\u001b[0m\u001b[0;32m    701\u001b[0m \u001b[1;33m\u001b[0m\u001b[0m\n",
      "\u001b[1;31mIncompleteRead\u001b[0m: IncompleteRead(0 bytes read)",
      "\nDuring handling of the above exception, another exception occurred:\n",
      "\u001b[1;31mProtocolError\u001b[0m                             Traceback (most recent call last)",
      "\u001b[1;32mC:\\Python\\Python38\\lib\\site-packages\\requests\\models.py\u001b[0m in \u001b[0;36mgenerate\u001b[1;34m()\u001b[0m\n\u001b[0;32m    750\u001b[0m                 \u001b[1;32mtry\u001b[0m\u001b[1;33m:\u001b[0m\u001b[1;33m\u001b[0m\u001b[1;33m\u001b[0m\u001b[0m\n\u001b[1;32m--> 751\u001b[1;33m                     \u001b[1;32mfor\u001b[0m \u001b[0mchunk\u001b[0m \u001b[1;32min\u001b[0m \u001b[0mself\u001b[0m\u001b[1;33m.\u001b[0m\u001b[0mraw\u001b[0m\u001b[1;33m.\u001b[0m\u001b[0mstream\u001b[0m\u001b[1;33m(\u001b[0m\u001b[0mchunk_size\u001b[0m\u001b[1;33m,\u001b[0m \u001b[0mdecode_content\u001b[0m\u001b[1;33m=\u001b[0m\u001b[1;32mTrue\u001b[0m\u001b[1;33m)\u001b[0m\u001b[1;33m:\u001b[0m\u001b[1;33m\u001b[0m\u001b[1;33m\u001b[0m\u001b[0m\n\u001b[0m\u001b[0;32m    752\u001b[0m                         \u001b[1;32myield\u001b[0m \u001b[0mchunk\u001b[0m\u001b[1;33m\u001b[0m\u001b[1;33m\u001b[0m\u001b[0m\n",
      "\u001b[1;32mC:\\Python\\Python38\\lib\\site-packages\\urllib3\\response.py\u001b[0m in \u001b[0;36mstream\u001b[1;34m(self, amt, decode_content)\u001b[0m\n\u001b[0;32m    570\u001b[0m         \u001b[1;32mif\u001b[0m \u001b[0mself\u001b[0m\u001b[1;33m.\u001b[0m\u001b[0mchunked\u001b[0m \u001b[1;32mand\u001b[0m \u001b[0mself\u001b[0m\u001b[1;33m.\u001b[0m\u001b[0msupports_chunked_reads\u001b[0m\u001b[1;33m(\u001b[0m\u001b[1;33m)\u001b[0m\u001b[1;33m:\u001b[0m\u001b[1;33m\u001b[0m\u001b[1;33m\u001b[0m\u001b[0m\n\u001b[1;32m--> 571\u001b[1;33m             \u001b[1;32mfor\u001b[0m \u001b[0mline\u001b[0m \u001b[1;32min\u001b[0m \u001b[0mself\u001b[0m\u001b[1;33m.\u001b[0m\u001b[0mread_chunked\u001b[0m\u001b[1;33m(\u001b[0m\u001b[0mamt\u001b[0m\u001b[1;33m,\u001b[0m \u001b[0mdecode_content\u001b[0m\u001b[1;33m=\u001b[0m\u001b[0mdecode_content\u001b[0m\u001b[1;33m)\u001b[0m\u001b[1;33m:\u001b[0m\u001b[1;33m\u001b[0m\u001b[1;33m\u001b[0m\u001b[0m\n\u001b[0m\u001b[0;32m    572\u001b[0m                 \u001b[1;32myield\u001b[0m \u001b[0mline\u001b[0m\u001b[1;33m\u001b[0m\u001b[1;33m\u001b[0m\u001b[0m\n",
      "\u001b[1;32mC:\\Python\\Python38\\lib\\site-packages\\urllib3\\response.py\u001b[0m in \u001b[0;36mread_chunked\u001b[1;34m(self, amt, decode_content)\u001b[0m\n\u001b[0;32m    791\u001b[0m             \u001b[1;32mif\u001b[0m \u001b[0mself\u001b[0m\u001b[1;33m.\u001b[0m\u001b[0m_original_response\u001b[0m\u001b[1;33m:\u001b[0m\u001b[1;33m\u001b[0m\u001b[1;33m\u001b[0m\u001b[0m\n\u001b[1;32m--> 792\u001b[1;33m                 \u001b[0mself\u001b[0m\u001b[1;33m.\u001b[0m\u001b[0m_original_response\u001b[0m\u001b[1;33m.\u001b[0m\u001b[0mclose\u001b[0m\u001b[1;33m(\u001b[0m\u001b[1;33m)\u001b[0m\u001b[1;33m\u001b[0m\u001b[1;33m\u001b[0m\u001b[0m\n\u001b[0m\u001b[0;32m    793\u001b[0m \u001b[1;33m\u001b[0m\u001b[0m\n",
      "\u001b[1;32mC:\\Python\\Python38\\lib\\contextlib.py\u001b[0m in \u001b[0;36m__exit__\u001b[1;34m(self, type, value, traceback)\u001b[0m\n\u001b[0;32m    130\u001b[0m             \u001b[1;32mtry\u001b[0m\u001b[1;33m:\u001b[0m\u001b[1;33m\u001b[0m\u001b[1;33m\u001b[0m\u001b[0m\n\u001b[1;32m--> 131\u001b[1;33m                 \u001b[0mself\u001b[0m\u001b[1;33m.\u001b[0m\u001b[0mgen\u001b[0m\u001b[1;33m.\u001b[0m\u001b[0mthrow\u001b[0m\u001b[1;33m(\u001b[0m\u001b[0mtype\u001b[0m\u001b[1;33m,\u001b[0m \u001b[0mvalue\u001b[0m\u001b[1;33m,\u001b[0m \u001b[0mtraceback\u001b[0m\u001b[1;33m)\u001b[0m\u001b[1;33m\u001b[0m\u001b[1;33m\u001b[0m\u001b[0m\n\u001b[0m\u001b[0;32m    132\u001b[0m             \u001b[1;32mexcept\u001b[0m \u001b[0mStopIteration\u001b[0m \u001b[1;32mas\u001b[0m \u001b[0mexc\u001b[0m\u001b[1;33m:\u001b[0m\u001b[1;33m\u001b[0m\u001b[1;33m\u001b[0m\u001b[0m\n",
      "\u001b[1;32mC:\\Python\\Python38\\lib\\site-packages\\urllib3\\response.py\u001b[0m in \u001b[0;36m_error_catcher\u001b[1;34m(self)\u001b[0m\n\u001b[0;32m    453\u001b[0m                 \u001b[1;31m# This includes IncompleteRead.\u001b[0m\u001b[1;33m\u001b[0m\u001b[1;33m\u001b[0m\u001b[1;33m\u001b[0m\u001b[0m\n\u001b[1;32m--> 454\u001b[1;33m                 \u001b[1;32mraise\u001b[0m \u001b[0mProtocolError\u001b[0m\u001b[1;33m(\u001b[0m\u001b[1;34m\"Connection broken: %r\"\u001b[0m \u001b[1;33m%\u001b[0m \u001b[0me\u001b[0m\u001b[1;33m,\u001b[0m \u001b[0me\u001b[0m\u001b[1;33m)\u001b[0m\u001b[1;33m\u001b[0m\u001b[1;33m\u001b[0m\u001b[0m\n\u001b[0m\u001b[0;32m    455\u001b[0m \u001b[1;33m\u001b[0m\u001b[0m\n",
      "\u001b[1;31mProtocolError\u001b[0m: ('Connection broken: IncompleteRead(0 bytes read)', IncompleteRead(0 bytes read))",
      "\nDuring handling of the above exception, another exception occurred:\n",
      "\u001b[1;31mChunkedEncodingError\u001b[0m                      Traceback (most recent call last)",
      "\u001b[1;32m<ipython-input-5-11b03ee3ca32>\u001b[0m in \u001b[0;36m<module>\u001b[1;34m\u001b[0m\n\u001b[0;32m      6\u001b[0m     \u001b[0mtime_stamp\u001b[0m\u001b[1;33m=\u001b[0m\u001b[0mtime_stamp\u001b[0m\u001b[1;33m.\u001b[0m\u001b[0mstrftime\u001b[0m\u001b[1;33m(\u001b[0m\u001b[1;34m\"%Y-%m-%d %H:%M:%S\"\u001b[0m\u001b[1;33m)\u001b[0m\u001b[1;33m\u001b[0m\u001b[1;33m\u001b[0m\u001b[0m\n\u001b[0;32m      7\u001b[0m     \u001b[1;32mfor\u001b[0m \u001b[0mstock_code\u001b[0m \u001b[1;32min\u001b[0m \u001b[0mHSI\u001b[0m\u001b[1;33m:\u001b[0m\u001b[1;33m\u001b[0m\u001b[1;33m\u001b[0m\u001b[0m\n\u001b[1;32m----> 8\u001b[1;33m         \u001b[0mprice\u001b[0m\u001b[1;33m.\u001b[0m\u001b[0mappend\u001b[0m\u001b[1;33m(\u001b[0m\u001b[0mreal_time_price\u001b[0m\u001b[1;33m(\u001b[0m\u001b[0mstock_code\u001b[0m\u001b[1;33m)\u001b[0m\u001b[1;33m)\u001b[0m\u001b[1;33m\u001b[0m\u001b[1;33m\u001b[0m\u001b[0m\n\u001b[0m\u001b[0;32m      9\u001b[0m     \u001b[0mcol\u001b[0m\u001b[1;33m=\u001b[0m \u001b[1;33m[\u001b[0m\u001b[0mtime_stamp\u001b[0m\u001b[1;33m]\u001b[0m\u001b[1;33m\u001b[0m\u001b[1;33m\u001b[0m\u001b[0m\n\u001b[0;32m     10\u001b[0m     \u001b[0mcol\u001b[0m\u001b[1;33m.\u001b[0m\u001b[0mextend\u001b[0m\u001b[1;33m(\u001b[0m\u001b[0mprice\u001b[0m\u001b[1;33m)\u001b[0m\u001b[1;33m\u001b[0m\u001b[1;33m\u001b[0m\u001b[0m\n",
      "\u001b[1;32m<ipython-input-4-08e3a419bbe8>\u001b[0m in \u001b[0;36mreal_time_price\u001b[1;34m(stock_code)\u001b[0m\n\u001b[0;32m      1\u001b[0m \u001b[1;32mdef\u001b[0m \u001b[0mreal_time_price\u001b[0m\u001b[1;33m(\u001b[0m\u001b[0mstock_code\u001b[0m\u001b[1;33m)\u001b[0m\u001b[1;33m:\u001b[0m\u001b[1;33m\u001b[0m\u001b[1;33m\u001b[0m\u001b[0m\n\u001b[0;32m      2\u001b[0m         \u001b[0murl\u001b[0m\u001b[1;33m=\u001b[0m\u001b[1;33m(\u001b[0m\u001b[1;34m'https://finance.yahoo.com/quote/'\u001b[0m\u001b[1;33m)\u001b[0m\u001b[1;33m+\u001b[0m\u001b[0mstock_code\u001b[0m \u001b[1;33m+\u001b[0m \u001b[1;33m(\u001b[0m\u001b[1;34m'?p='\u001b[0m\u001b[1;33m)\u001b[0m\u001b[1;33m+\u001b[0m\u001b[0mstock_code\u001b[0m \u001b[1;33m+\u001b[0m\u001b[1;33m(\u001b[0m\u001b[1;34m'&.tsrc=fin-srch'\u001b[0m\u001b[1;33m)\u001b[0m\u001b[1;33m\u001b[0m\u001b[1;33m\u001b[0m\u001b[0m\n\u001b[1;32m----> 3\u001b[1;33m         \u001b[0mr\u001b[0m\u001b[1;33m=\u001b[0m\u001b[0mrequests\u001b[0m\u001b[1;33m.\u001b[0m\u001b[0mget\u001b[0m\u001b[1;33m(\u001b[0m\u001b[0murl\u001b[0m\u001b[1;33m)\u001b[0m\u001b[1;33m\u001b[0m\u001b[1;33m\u001b[0m\u001b[0m\n\u001b[0m\u001b[0;32m      4\u001b[0m \u001b[1;33m\u001b[0m\u001b[0m\n\u001b[0;32m      5\u001b[0m         \u001b[0mweb_content\u001b[0m \u001b[1;33m=\u001b[0m \u001b[0mBeautifulSoup\u001b[0m\u001b[1;33m(\u001b[0m\u001b[0mr\u001b[0m\u001b[1;33m.\u001b[0m\u001b[0mtext\u001b[0m\u001b[1;33m,\u001b[0m\u001b[1;34m'lxml'\u001b[0m\u001b[1;33m)\u001b[0m\u001b[1;33m\u001b[0m\u001b[1;33m\u001b[0m\u001b[0m\n",
      "\u001b[1;32mC:\\Python\\Python38\\lib\\site-packages\\requests\\api.py\u001b[0m in \u001b[0;36mget\u001b[1;34m(url, params, **kwargs)\u001b[0m\n\u001b[0;32m     74\u001b[0m \u001b[1;33m\u001b[0m\u001b[0m\n\u001b[0;32m     75\u001b[0m     \u001b[0mkwargs\u001b[0m\u001b[1;33m.\u001b[0m\u001b[0msetdefault\u001b[0m\u001b[1;33m(\u001b[0m\u001b[1;34m'allow_redirects'\u001b[0m\u001b[1;33m,\u001b[0m \u001b[1;32mTrue\u001b[0m\u001b[1;33m)\u001b[0m\u001b[1;33m\u001b[0m\u001b[1;33m\u001b[0m\u001b[0m\n\u001b[1;32m---> 76\u001b[1;33m     \u001b[1;32mreturn\u001b[0m \u001b[0mrequest\u001b[0m\u001b[1;33m(\u001b[0m\u001b[1;34m'get'\u001b[0m\u001b[1;33m,\u001b[0m \u001b[0murl\u001b[0m\u001b[1;33m,\u001b[0m \u001b[0mparams\u001b[0m\u001b[1;33m=\u001b[0m\u001b[0mparams\u001b[0m\u001b[1;33m,\u001b[0m \u001b[1;33m**\u001b[0m\u001b[0mkwargs\u001b[0m\u001b[1;33m)\u001b[0m\u001b[1;33m\u001b[0m\u001b[1;33m\u001b[0m\u001b[0m\n\u001b[0m\u001b[0;32m     77\u001b[0m \u001b[1;33m\u001b[0m\u001b[0m\n\u001b[0;32m     78\u001b[0m \u001b[1;33m\u001b[0m\u001b[0m\n",
      "\u001b[1;32mC:\\Python\\Python38\\lib\\site-packages\\requests\\api.py\u001b[0m in \u001b[0;36mrequest\u001b[1;34m(method, url, **kwargs)\u001b[0m\n\u001b[0;32m     59\u001b[0m     \u001b[1;31m# cases, and look like a memory leak in others.\u001b[0m\u001b[1;33m\u001b[0m\u001b[1;33m\u001b[0m\u001b[1;33m\u001b[0m\u001b[0m\n\u001b[0;32m     60\u001b[0m     \u001b[1;32mwith\u001b[0m \u001b[0msessions\u001b[0m\u001b[1;33m.\u001b[0m\u001b[0mSession\u001b[0m\u001b[1;33m(\u001b[0m\u001b[1;33m)\u001b[0m \u001b[1;32mas\u001b[0m \u001b[0msession\u001b[0m\u001b[1;33m:\u001b[0m\u001b[1;33m\u001b[0m\u001b[1;33m\u001b[0m\u001b[0m\n\u001b[1;32m---> 61\u001b[1;33m         \u001b[1;32mreturn\u001b[0m \u001b[0msession\u001b[0m\u001b[1;33m.\u001b[0m\u001b[0mrequest\u001b[0m\u001b[1;33m(\u001b[0m\u001b[0mmethod\u001b[0m\u001b[1;33m=\u001b[0m\u001b[0mmethod\u001b[0m\u001b[1;33m,\u001b[0m \u001b[0murl\u001b[0m\u001b[1;33m=\u001b[0m\u001b[0murl\u001b[0m\u001b[1;33m,\u001b[0m \u001b[1;33m**\u001b[0m\u001b[0mkwargs\u001b[0m\u001b[1;33m)\u001b[0m\u001b[1;33m\u001b[0m\u001b[1;33m\u001b[0m\u001b[0m\n\u001b[0m\u001b[0;32m     62\u001b[0m \u001b[1;33m\u001b[0m\u001b[0m\n\u001b[0;32m     63\u001b[0m \u001b[1;33m\u001b[0m\u001b[0m\n",
      "\u001b[1;32mC:\\Python\\Python38\\lib\\site-packages\\requests\\sessions.py\u001b[0m in \u001b[0;36mrequest\u001b[1;34m(self, method, url, params, data, headers, cookies, files, auth, timeout, allow_redirects, proxies, hooks, stream, verify, cert, json)\u001b[0m\n\u001b[0;32m    528\u001b[0m         }\n\u001b[0;32m    529\u001b[0m         \u001b[0msend_kwargs\u001b[0m\u001b[1;33m.\u001b[0m\u001b[0mupdate\u001b[0m\u001b[1;33m(\u001b[0m\u001b[0msettings\u001b[0m\u001b[1;33m)\u001b[0m\u001b[1;33m\u001b[0m\u001b[1;33m\u001b[0m\u001b[0m\n\u001b[1;32m--> 530\u001b[1;33m         \u001b[0mresp\u001b[0m \u001b[1;33m=\u001b[0m \u001b[0mself\u001b[0m\u001b[1;33m.\u001b[0m\u001b[0msend\u001b[0m\u001b[1;33m(\u001b[0m\u001b[0mprep\u001b[0m\u001b[1;33m,\u001b[0m \u001b[1;33m**\u001b[0m\u001b[0msend_kwargs\u001b[0m\u001b[1;33m)\u001b[0m\u001b[1;33m\u001b[0m\u001b[1;33m\u001b[0m\u001b[0m\n\u001b[0m\u001b[0;32m    531\u001b[0m \u001b[1;33m\u001b[0m\u001b[0m\n\u001b[0;32m    532\u001b[0m         \u001b[1;32mreturn\u001b[0m \u001b[0mresp\u001b[0m\u001b[1;33m\u001b[0m\u001b[1;33m\u001b[0m\u001b[0m\n",
      "\u001b[1;32mC:\\Python\\Python38\\lib\\site-packages\\requests\\sessions.py\u001b[0m in \u001b[0;36msend\u001b[1;34m(self, request, **kwargs)\u001b[0m\n\u001b[0;32m    683\u001b[0m \u001b[1;33m\u001b[0m\u001b[0m\n\u001b[0;32m    684\u001b[0m         \u001b[1;32mif\u001b[0m \u001b[1;32mnot\u001b[0m \u001b[0mstream\u001b[0m\u001b[1;33m:\u001b[0m\u001b[1;33m\u001b[0m\u001b[1;33m\u001b[0m\u001b[0m\n\u001b[1;32m--> 685\u001b[1;33m             \u001b[0mr\u001b[0m\u001b[1;33m.\u001b[0m\u001b[0mcontent\u001b[0m\u001b[1;33m\u001b[0m\u001b[1;33m\u001b[0m\u001b[0m\n\u001b[0m\u001b[0;32m    686\u001b[0m \u001b[1;33m\u001b[0m\u001b[0m\n\u001b[0;32m    687\u001b[0m         \u001b[1;32mreturn\u001b[0m \u001b[0mr\u001b[0m\u001b[1;33m\u001b[0m\u001b[1;33m\u001b[0m\u001b[0m\n",
      "\u001b[1;32mC:\\Python\\Python38\\lib\\site-packages\\requests\\models.py\u001b[0m in \u001b[0;36mcontent\u001b[1;34m(self)\u001b[0m\n\u001b[0;32m    827\u001b[0m                 \u001b[0mself\u001b[0m\u001b[1;33m.\u001b[0m\u001b[0m_content\u001b[0m \u001b[1;33m=\u001b[0m \u001b[1;32mNone\u001b[0m\u001b[1;33m\u001b[0m\u001b[1;33m\u001b[0m\u001b[0m\n\u001b[0;32m    828\u001b[0m             \u001b[1;32melse\u001b[0m\u001b[1;33m:\u001b[0m\u001b[1;33m\u001b[0m\u001b[1;33m\u001b[0m\u001b[0m\n\u001b[1;32m--> 829\u001b[1;33m                 \u001b[0mself\u001b[0m\u001b[1;33m.\u001b[0m\u001b[0m_content\u001b[0m \u001b[1;33m=\u001b[0m \u001b[1;34mb''\u001b[0m\u001b[1;33m.\u001b[0m\u001b[0mjoin\u001b[0m\u001b[1;33m(\u001b[0m\u001b[0mself\u001b[0m\u001b[1;33m.\u001b[0m\u001b[0miter_content\u001b[0m\u001b[1;33m(\u001b[0m\u001b[0mCONTENT_CHUNK_SIZE\u001b[0m\u001b[1;33m)\u001b[0m\u001b[1;33m)\u001b[0m \u001b[1;32mor\u001b[0m \u001b[1;34mb''\u001b[0m\u001b[1;33m\u001b[0m\u001b[1;33m\u001b[0m\u001b[0m\n\u001b[0m\u001b[0;32m    830\u001b[0m \u001b[1;33m\u001b[0m\u001b[0m\n\u001b[0;32m    831\u001b[0m         \u001b[0mself\u001b[0m\u001b[1;33m.\u001b[0m\u001b[0m_content_consumed\u001b[0m \u001b[1;33m=\u001b[0m \u001b[1;32mTrue\u001b[0m\u001b[1;33m\u001b[0m\u001b[1;33m\u001b[0m\u001b[0m\n",
      "\u001b[1;32mC:\\Python\\Python38\\lib\\site-packages\\requests\\models.py\u001b[0m in \u001b[0;36mgenerate\u001b[1;34m()\u001b[0m\n\u001b[0;32m    752\u001b[0m                         \u001b[1;32myield\u001b[0m \u001b[0mchunk\u001b[0m\u001b[1;33m\u001b[0m\u001b[1;33m\u001b[0m\u001b[0m\n\u001b[0;32m    753\u001b[0m                 \u001b[1;32mexcept\u001b[0m \u001b[0mProtocolError\u001b[0m \u001b[1;32mas\u001b[0m \u001b[0me\u001b[0m\u001b[1;33m:\u001b[0m\u001b[1;33m\u001b[0m\u001b[1;33m\u001b[0m\u001b[0m\n\u001b[1;32m--> 754\u001b[1;33m                     \u001b[1;32mraise\u001b[0m \u001b[0mChunkedEncodingError\u001b[0m\u001b[1;33m(\u001b[0m\u001b[0me\u001b[0m\u001b[1;33m)\u001b[0m\u001b[1;33m\u001b[0m\u001b[1;33m\u001b[0m\u001b[0m\n\u001b[0m\u001b[0;32m    755\u001b[0m                 \u001b[1;32mexcept\u001b[0m \u001b[0mDecodeError\u001b[0m \u001b[1;32mas\u001b[0m \u001b[0me\u001b[0m\u001b[1;33m:\u001b[0m\u001b[1;33m\u001b[0m\u001b[1;33m\u001b[0m\u001b[0m\n\u001b[0;32m    756\u001b[0m                     \u001b[1;32mraise\u001b[0m \u001b[0mContentDecodingError\u001b[0m\u001b[1;33m(\u001b[0m\u001b[0me\u001b[0m\u001b[1;33m)\u001b[0m\u001b[1;33m\u001b[0m\u001b[1;33m\u001b[0m\u001b[0m\n",
      "\u001b[1;31mChunkedEncodingError\u001b[0m: ('Connection broken: IncompleteRead(0 bytes read)', IncompleteRead(0 bytes read))"
     ]
    }
   ],
   "source": [
    "#for step in range(1,101):\n",
    "while True:\n",
    "    price =[]\n",
    "    col =[]\n",
    "    time_stamp=datetime.datetime.now()\n",
    "    time_stamp=time_stamp.strftime(\"%Y-%m-%d %H:%M:%S\")\n",
    "    for stock_code in HSI:\n",
    "        price.append(real_time_price(stock_code))\n",
    "    col= [time_stamp]\n",
    "    col.extend(price)\n",
    "    df=pd.DataFrame(col)\n",
    "    df=df.T\n",
    "    df.to_csv('Action.csv',mode='a',header=None)\n",
    "    print(col)"
   ]
  },
  {
   "cell_type": "code",
   "execution_count": null,
   "metadata": {},
   "outputs": [],
   "source": []
  }
 ]
}