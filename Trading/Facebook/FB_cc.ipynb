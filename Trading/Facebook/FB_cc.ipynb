{
 "metadata": {
  "language_info": {
   "codemirror_mode": {
    "name": "ipython",
    "version": 3
   },
   "file_extension": ".py",
   "mimetype": "text/x-python",
   "name": "python",
   "nbconvert_exporter": "python",
   "pygments_lexer": "ipython3",
   "version": "3.8.5-final"
  },
  "orig_nbformat": 2,
  "kernelspec": {
   "name": "python_defaultSpec_1598548353742",
   "display_name": "Python 3.8.5 64-bit"
  }
 },
 "nbformat": 4,
 "nbformat_minor": 2,
 "cells": [
  {
   "cell_type": "code",
   "execution_count": 1,
   "metadata": {},
   "outputs": [],
   "source": [
    "import requests\n",
    "from bs4 import BeautifulSoup\n",
    "import time\n",
    "import pandas as pd\n",
    "from pandas import DataFrame\n",
    "import requests\n",
    "import datetime\n",
    "import csv"
   ]
  },
  {
   "cell_type": "code",
   "execution_count": 2,
   "metadata": {},
   "outputs": [],
   "source": [
    "def real_time_price(stock_code):\n",
    "        url=('https://www.zonebourse.com/cours/action/FACEBOOK-10547141/fondamentaux/') \n",
    "        r=requests.get(url)  \n",
    "        soup=BeautifulSoup(r.text,'lxml')\n",
    "        # if stock_code=='Prix':\n",
    "         #   var=soup.find('span',{'class':'Trsdu(0.3s) Fw(b) Fz(36px) Mb(-4px) D(ib)'})\n",
    "        var=''\n",
    "        if stock_code==1:\n",
    "                var=soup.find('div',{\"class\":'fCCR'}).find_next('div',{\"class\":'fCCV'}).text\n",
    "      \n",
    "        if stock_code==2:                                                                                                     var=soup.find('div',{\"class\":'fCCR'}).find_next('div',{\"class\":'fCCV'}).find_next('div',{\"class\":'fCCV'}).text\n",
    "\n",
    "        if stock_code==3: \n",
    "                var = soup.find('div',{\"class\":'fCCR'}).find_next('div',{\"class\":'fCCV'}).find_next('div',{\"class\":'fCCV'}).find_next('div',{\"class\":'fCCV'}).text\n",
    "        \n",
    "        if stock_code==4: \n",
    "                var = soup.find('div',{\"class\":'fCCR'}).find_next('div',{\"class\":'fCCV'}).find_next('div',{\"class\":'fCCV'}).find_next('div',{\"class\":'fCCV'}).find_next('div',{\"class\":'fCCV'}).text\n",
    "\n",
    "        if stock_code==5: \n",
    "                var = soup.find('div',{\"class\":'fCCR'}).find_next('div',{\"class\":'fCCV'}).find_next('div',{\"class\":'fCCV'}).find_next('div',{\"class\":'fCCV'}).find_next('div',{\"class\":'fCCV'}).find_next('div',{\"class\":'fCCV'}).text\n",
    "\n",
    "        if stock_code==6: \n",
    "                var = soup.find('div',{\"class\":'fCCR'}).find_next('div',{\"class\":'fCCV'}).find_next('div',{\"class\":'fCCV'}).find_next('div',{\"class\":'fCCV'}).find_next('div',{\"class\":'fCCV'}).find_next('div',{\"class\":'fCCV'}).find_next('div',{\"class\":'fCCV'}).text\n",
    "        \n",
    "        if stock_code==7: \n",
    "                var = soup.find('div',{\"class\":'fCCR'}).find_next('div',{\"class\":'fCCV'}).find_next('div',{\"class\":'fCCV'}).find_next('div',{\"class\":'fCCV'}).find_next('div',{\"class\":'fCCV'}).find_next('div',{\"class\":'fCCV'}).find_next('div',{\"class\":'fCCV'}).find_next('div',{\"class\":'fCCV'}).text\n",
    "        \n",
    "        if stock_code==8: \n",
    "                var = soup.find('div',{\"class\":'fCCR'}).find_next('div',{\"class\":'fCCV'}).find_next('div',{\"class\":'fCCV'}).find_next('div',{\"class\":'fCCV'}).find_next('div',{\"class\":'fCCV'}).find_next('div',{\"class\":'fCCV'}).find_next('div',{\"class\":'fCCV'}).find_next('div',{\"class\":'fCCV'}).find_next('div',{\"class\":'fCCV'}).text\n",
    "\n",
    "        if stock_code==9: \n",
    "                var = soup.find('div',{\"class\":'fCCR'}).find_next('div',{\"class\":'fCCV'}).find_next('div',{\"class\":'fCCV'}).find_next('div',{\"class\":'fCCV'}).find_next('div',{\"class\":'fCCV'}).find_next('div',{\"class\":'fCCV'}).find_next('div',{\"class\":'fCCV'}).find_next('div',{\"class\":'fCCV'}).find_next('div',{\"class\":'fCCV'}).find_next('div',{\"class\":'fCCV'}).text\n",
    "        \n",
    "        if var =='':\n",
    "            var='99999'\n",
    "        return var"
   ]
  },
  {
   "cell_type": "code",
   "execution_count": 3,
   "metadata": {
    "tags": []
   },
   "outputs": [
    {
     "output_type": "stream",
     "name": "stdout",
     "text": "['865 783 615 248', '70 697 000 000', '52 534', '1 345 738', '83,8%', '725 644 502 024', '9 145 318 748', '1,06%']\n"
    }
   ],
   "source": [
    "for step in range(1,2):\n",
    "    price =[]\n",
    "    col =[]\n",
    "    time_stamp=datetime.datetime.now()\n",
    "    time_stamp=time_stamp.strftime(\"%Y-%m-%d %H:%M:%S\")\n",
    "\n",
    "    for step in range(1,9):\n",
    "            price.append(real_time_price(step))\n",
    "\n",
    "    with open('FB CC.csv', 'w') as outcsv:\n",
    "        headerrr=['ind','Capitalization (USD)','Turnover (USD)','Number of employees','Turnover/Employee (USD)','Free float','Free float capitalization (USD)','Avg Exchange (USD)','Avg Daily Traded Capital'] \n",
    " #   headerrr=['indice','time','Taux_instantanee','Change_instantanee','Previous_Close']\n",
    "        writer = csv.DictWriter(outcsv, fieldnames = headerrr)\n",
    "        writer.writeheader()\n",
    "\n",
    "   \n",
    "    col.extend(price)\n",
    "    df=pd.DataFrame(col)\n",
    "    df=df.T\n",
    "    df.to_csv('FB CC.csv',mode='a',header=False)\n",
    "    print(col)"
   ]
  },
  {
   "cell_type": "code",
   "execution_count": null,
   "metadata": {},
   "outputs": [],
   "source": []
  }
 ]
}