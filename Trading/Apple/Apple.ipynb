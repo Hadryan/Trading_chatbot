{
 "metadata": {
  "language_info": {
   "codemirror_mode": {
    "name": "ipython",
    "version": 3
   },
   "file_extension": ".py",
   "mimetype": "text/x-python",
   "name": "python",
   "nbconvert_exporter": "python",
   "pygments_lexer": "ipython3",
   "version": "3.8.5-final"
  },
  "orig_nbformat": 2,
  "kernelspec": {
   "name": "python_defaultSpec_1598900294211",
   "display_name": "Python 3.8.5 64-bit"
  }
 },
 "nbformat": 4,
 "nbformat_minor": 2,
 "cells": [
  {
   "cell_type": "markdown",
   "metadata": {},
   "source": [
    "1.Scrapping APPLE"
   ]
  },
  {
   "cell_type": "code",
   "execution_count": 8,
   "metadata": {},
   "outputs": [
    {
     "output_type": "execute_result",
     "data": {
      "text/plain": "           Date    Open    High     Low   Close       Volume  Dividends  \\\n0    2018-01-02   41.01   41.52   40.79   41.51  102223600.0        0.0   \n1    2018-01-03   41.58   42.07   41.44   41.51  118071600.0        0.0   \n2    2018-01-04   41.58   41.81   41.47   41.70   89738400.0        0.0   \n3    2018-01-05   41.80   42.26   41.70   42.17   94640000.0        0.0   \n4    2018-01-08   42.02   42.32   41.92   42.02   82271200.0        0.0   \n..          ...     ...     ...     ...     ...          ...        ...   \n667  2020-08-26  126.18  126.99  125.08  126.52  163022400.0        0.0   \n668  2020-08-27  127.14  127.49  123.83  125.01  155552400.0        0.0   \n669  2020-08-28  126.01  126.44  124.58  124.81  187151600.0        0.0   \n670  2020-08-31     NaN     NaN     NaN     NaN          NaN        0.0   \n671  2020-08-31  127.58  131.00  126.00  130.07  181559305.0        0.0   \n\n     Stock Splits  \n0             0.0  \n1             0.0  \n2             0.0  \n3             0.0  \n4             0.0  \n..            ...  \n667           0.0  \n668           0.0  \n669           0.0  \n670           4.0  \n671           0.0  \n\n[672 rows x 8 columns]",
      "text/html": "<div>\n<style scoped>\n    .dataframe tbody tr th:only-of-type {\n        vertical-align: middle;\n    }\n\n    .dataframe tbody tr th {\n        vertical-align: top;\n    }\n\n    .dataframe thead th {\n        text-align: right;\n    }\n</style>\n<table border=\"1\" class=\"dataframe\">\n  <thead>\n    <tr style=\"text-align: right;\">\n      <th></th>\n      <th>Date</th>\n      <th>Open</th>\n      <th>High</th>\n      <th>Low</th>\n      <th>Close</th>\n      <th>Volume</th>\n      <th>Dividends</th>\n      <th>Stock Splits</th>\n    </tr>\n  </thead>\n  <tbody>\n    <tr>\n      <th>0</th>\n      <td>2018-01-02</td>\n      <td>41.01</td>\n      <td>41.52</td>\n      <td>40.79</td>\n      <td>41.51</td>\n      <td>102223600.0</td>\n      <td>0.0</td>\n      <td>0.0</td>\n    </tr>\n    <tr>\n      <th>1</th>\n      <td>2018-01-03</td>\n      <td>41.58</td>\n      <td>42.07</td>\n      <td>41.44</td>\n      <td>41.51</td>\n      <td>118071600.0</td>\n      <td>0.0</td>\n      <td>0.0</td>\n    </tr>\n    <tr>\n      <th>2</th>\n      <td>2018-01-04</td>\n      <td>41.58</td>\n      <td>41.81</td>\n      <td>41.47</td>\n      <td>41.70</td>\n      <td>89738400.0</td>\n      <td>0.0</td>\n      <td>0.0</td>\n    </tr>\n    <tr>\n      <th>3</th>\n      <td>2018-01-05</td>\n      <td>41.80</td>\n      <td>42.26</td>\n      <td>41.70</td>\n      <td>42.17</td>\n      <td>94640000.0</td>\n      <td>0.0</td>\n      <td>0.0</td>\n    </tr>\n    <tr>\n      <th>4</th>\n      <td>2018-01-08</td>\n      <td>42.02</td>\n      <td>42.32</td>\n      <td>41.92</td>\n      <td>42.02</td>\n      <td>82271200.0</td>\n      <td>0.0</td>\n      <td>0.0</td>\n    </tr>\n    <tr>\n      <th>...</th>\n      <td>...</td>\n      <td>...</td>\n      <td>...</td>\n      <td>...</td>\n      <td>...</td>\n      <td>...</td>\n      <td>...</td>\n      <td>...</td>\n    </tr>\n    <tr>\n      <th>667</th>\n      <td>2020-08-26</td>\n      <td>126.18</td>\n      <td>126.99</td>\n      <td>125.08</td>\n      <td>126.52</td>\n      <td>163022400.0</td>\n      <td>0.0</td>\n      <td>0.0</td>\n    </tr>\n    <tr>\n      <th>668</th>\n      <td>2020-08-27</td>\n      <td>127.14</td>\n      <td>127.49</td>\n      <td>123.83</td>\n      <td>125.01</td>\n      <td>155552400.0</td>\n      <td>0.0</td>\n      <td>0.0</td>\n    </tr>\n    <tr>\n      <th>669</th>\n      <td>2020-08-28</td>\n      <td>126.01</td>\n      <td>126.44</td>\n      <td>124.58</td>\n      <td>124.81</td>\n      <td>187151600.0</td>\n      <td>0.0</td>\n      <td>0.0</td>\n    </tr>\n    <tr>\n      <th>670</th>\n      <td>2020-08-31</td>\n      <td>NaN</td>\n      <td>NaN</td>\n      <td>NaN</td>\n      <td>NaN</td>\n      <td>NaN</td>\n      <td>0.0</td>\n      <td>4.0</td>\n    </tr>\n    <tr>\n      <th>671</th>\n      <td>2020-08-31</td>\n      <td>127.58</td>\n      <td>131.00</td>\n      <td>126.00</td>\n      <td>130.07</td>\n      <td>181559305.0</td>\n      <td>0.0</td>\n      <td>0.0</td>\n    </tr>\n  </tbody>\n</table>\n<p>672 rows × 8 columns</p>\n</div>"
     },
     "metadata": {},
     "execution_count": 8
    }
   ],
   "source": [
    "import yfinance as yf\n",
    "#definir ticker\n",
    "sq='AAPL'\n",
    "#recupere data\n",
    "data =yf.Ticker(sq)\n",
    "#recupere les prix \n",
    "dataDF=data.history(periode='1d',start='2018-1-1')\n",
    "#afficher \n",
    "#dataDF\n",
    "#import matplotlib.pyplot as plt\n",
    "#dataDF['Close'].plot()\n",
    "#plt.show()\n",
    "#download=yf.download(sq,start='2018-7-27',end='2020-7-27')\n",
    "dataDF.to_csv('APPLE Scrapping.csv')\n",
    "import pandas as p\n",
    "df=p.read_csv('APPLE Scrapping.csv')\n",
    "df"
   ]
  },
  {
   "cell_type": "markdown",
   "metadata": {},
   "source": [
    "2.streaming echanger (temp reel)"
   ]
  },
  {
   "cell_type": "code",
   "execution_count": 2,
   "metadata": {},
   "outputs": [],
   "source": [
    "import requests\n",
    "from bs4 import BeautifulSoup\n",
    "import time\n",
    "import pandas as pd\n",
    "from pandas import DataFrame\n",
    "import requests\n",
    "import datetime\n",
    "import csv"
   ]
  },
  {
   "cell_type": "code",
   "execution_count": 3,
   "metadata": {},
   "outputs": [],
   "source": []
  },
  {
   "cell_type": "code",
   "execution_count": 3,
   "metadata": {},
   "outputs": [],
   "source": [
    "def real_time_price(stock_code):\n",
    "        url=('https://finance.yahoo.com/quote/AAPL?p=AAPL&.tsrc=fin-srch') \n",
    "        r=requests.get(url)  \n",
    "        soup=BeautifulSoup(r.text,'lxml')\n",
    "        # if stock_code=='Prix':\n",
    "         #   var=soup.find('span',{'class':'Trsdu(0.3s) Fw(b) Fz(36px) Mb(-4px) D(ib)'})\n",
    "        var=''\n",
    "        if stock_code=='Taux_instantanee':\n",
    "                var=soup.find('span',{'data-reactid':'32'}).text\n",
    "\n",
    "        if stock_code=='Previous_Close':\n",
    "                var=soup.find('td',{'data-test':'PREV_CLOSE-value'}).find('span').text\n",
    "        \n",
    "        if stock_code=='Open':\n",
    "                var=soup.find('td',{'data-test':'OPEN-value'}).find('span').text\n",
    "        if stock_code=='Bid':\n",
    "                var=soup.find('td',{'data-test':'BID-value'}).find('span').text\n",
    "        if stock_code=='Ask':\n",
    "                var=soup.find('td',{'data-test':'ASK-value'}).find('span').text\n",
    "        \n",
    "        if stock_code=='Day_Range':\n",
    "                var=soup.find('td',{'data-test':'DAYS_RANGE-value'}).text\n",
    "        \n",
    "        if stock_code=='Week_Range_52':\n",
    "                var=soup.find('td',{'data-test':'FIFTY_TWO_WK_RANGE-value'}).text\n",
    "        if stock_code=='Volume':\n",
    "                var=soup.find('td',{'data-test':'TD_VOLUME-value'}).find('span').text\n",
    "        \n",
    "        if stock_code=='Avg Volume':\n",
    "                var=soup.find('td',{'data-test':'AVERAGE_VOLUME_3MONTH-value'}).find('span').text\n",
    "        \n",
    "        \n",
    "        if var =='':\n",
    "            var='99999'\n",
    "        return var"
   ]
  },
  {
   "cell_type": "code",
   "execution_count": 4,
   "metadata": {},
   "outputs": [],
   "source": [
    "HSI=['Taux_instantanee','Previous_Close','Open','Bid','Ask','Day_Range','Week_Range_52','Volume','Avg Volume']   \n",
    " # HSI=['Taux_instantanee','Change_instantanee','Previous_Close']"
   ]
  },
  {
   "cell_type": "code",
   "execution_count": 5,
   "metadata": {
    "tags": []
   },
   "outputs": [
    {
     "output_type": "stream",
     "name": "stdout",
     "text": "['2020-08-31 20:58:39', '130.57', '124.81', '127.58', '130.49 x 800', '130.54 x 1100', '126.00 - 131.00', '51.06 - 131.00', '177,651,363', '157,942,400']\n['2020-08-31 20:59:08', '130.51', '124.81', '127.58', '130.52 x 800', '130.52 x 1000', '126.00 - 131.00', '51.06 - 131.00', '177,915,757', '157,942,400']\n['2020-08-31 21:00:23', '130.52', '124.81', '127.58', '130.52 x 800', '130.52 x 1000', '126.00 - 131.00', '51.06 - 131.00', '178,021,779', '157,942,400']\n['2020-08-31 21:00:43', '130.53', '124.81', '127.58', '130.55 x 900', '130.55 x 1000', '126.00 - 131.00', '51.06 - 131.00', '178,112,448', '157,942,400']\n['2020-08-31 21:01:02', '130.45', '124.81', '127.58', '130.55 x 900', '130.55 x 1000', '126.00 - 131.00', '51.06 - 131.00', '178,272,048', '157,942,400']\n['2020-08-31 21:01:27', '130.44', '124.81', '127.58', '130.44 x 900', '130.55 x 1000', '126.00 - 131.00', '51.06 - 131.00', '178,318,965', '157,942,400']\n['2020-08-31 21:01:38', '130.48', '124.81', '127.58', '130.44 x 900', '130.55 x 1000', '126.00 - 131.00', '51.06 - 131.00', '178,348,047', '157,942,400']\n['2020-08-31 21:01:50', '130.48', '124.81', '127.58', '130.44 x 900', '130.48 x 1000', '126.00 - 131.00', '51.06 - 131.00', '178,385,156', '157,942,400']\n['2020-08-31 21:02:03', '130.44', '124.81', '127.58', '130.40 x 900', '130.48 x 1000', '126.00 - 131.00', '51.06 - 131.00', '178,459,710', '157,942,400']\n['2020-08-31 21:02:24', '130.35', '124.81', '127.58', '130.40 x 900', '130.32 x 1000', '126.00 - 131.00', '51.06 - 131.00', '178,639,269', '157,942,400']\n['2020-08-31 21:02:47', '130.19', '124.81', '127.58', '130.40 x 900', '130.32 x 1000', '126.00 - 131.00', '51.06 - 131.00', '178,781,602', '157,942,400']\n['2020-08-31 21:03:01', '130.10', '124.81', '127.58', '130.12 x 900', '130.32 x 1000', '126.00 - 131.00', '51.06 - 131.00', '178,856,115', '157,942,400']\n['2020-08-31 21:03:13', '130.09', '124.81', '127.58', '130.12 x 900', '130.14 x 1000', '126.00 - 131.00', '51.06 - 131.00', '178,937,575', '157,942,400']\n['2020-08-31 21:03:26', '130.07', '124.81', '127.58', '130.12 x 900', '130.14 x 1000', '126.00 - 131.00', '51.06 - 131.00', '179,052,421', '157,942,400']\n['2020-08-31 21:03:43', '130.03', '124.81', '127.58', '130.02 x 900', '130.14 x 1000', '126.00 - 131.00', '51.06 - 131.00', '179,144,894', '157,942,400']\n['2020-08-31 21:03:57', '130.05', '124.81', '127.58', '130.02 x 900', '130.07 x 1000', '126.00 - 131.00', '51.06 - 131.00', '179,236,866', '157,942,400']\n['2020-08-31 21:04:11', '130.00', '124.81', '127.58', '130.02 x 900', '130.07 x 1000', '126.00 - 131.00', '51.06 - 131.00', '179,419,049', '157,942,400']\n['2020-08-31 21:04:31', '129.98', '124.81', '127.58', '129.93 x 900', '130.06 x 1000', '126.00 - 131.00', '51.06 - 131.00', '179,648,280', '157,942,400']\n['2020-08-31 21:05:06', '130.09', '124.81', '127.58', '130.05 x 900', '130.12 x 1000', '126.00 - 131.00', '51.06 - 131.00', '180,316,297', '157,942,400']\n['2020-08-31 21:06:51', '130.14', '124.81', '127.58', '130.05 x 900', '130.12 x 1000', '126.00 - 131.00', '51.06 - 131.00', '180,400,426', '157,942,400']\n['2020-08-31 21:07:06', '130.01', '124.81', '127.58', '130.13 x 900', '130.03 x 1000', '126.00 - 131.00', '51.06 - 131.00', '180,463,780', '157,942,400']\n['2020-08-31 21:07:18', '130.12', '124.81', '127.58', '130.13 x 900', '130.03 x 1000', '126.00 - 131.00', '51.06 - 131.00', '180,533,088', '157,942,400']\n['2020-08-31 21:07:42', '130.07', '124.81', '127.58', '130.06 x 900', '130.03 x 1000', '126.00 - 131.00', '51.06 - 131.00', '180,590,657', '157,942,400']\n['2020-08-31 21:07:55', '130.04', '124.81', '127.58', '130.06 x 900', '130.05 x 1000', '126.00 - 131.00', '51.06 - 131.00', '180,639,275', '157,942,400']\n['2020-08-31 21:08:08', '130.05', '124.81', '127.58', '130.06 x 900', '130.05 x 1000', '126.00 - 131.00', '51.06 - 131.00', '180,666,869', '157,942,400']\n['2020-08-31 21:08:21', '130.05', '124.81', '127.58', '130.06 x 900', '130.05 x 1000', '126.00 - 131.00', '51.06 - 131.00', '180,729,721', '157,942,400']\n['2020-08-31 21:08:35', '130.04', '124.81', '127.58', '130.08 x 900', '130.08 x 1000', '126.00 - 131.00', '51.06 - 131.00', '180,807,986', '157,942,400']\n['2020-08-31 21:08:53', '130.07', '124.81', '127.58', '130.08 x 900', '130.08 x 1000', '126.00 - 131.00', '51.06 - 131.00', '180,842,075', '157,942,400']\n['2020-08-31 21:09:07', '130.05', '124.81', '127.58', '130.08 x 900', '130.08 x 1000', '126.00 - 131.00', '51.06 - 131.00', '180,876,388', '157,942,400']\n['2020-08-31 21:09:21', '130.08', '124.81', '127.58', '130.05 x 900', '130.11 x 1000', '126.00 - 131.00', '51.06 - 131.00', '180,927,250', '157,942,400']\n['2020-08-31 21:09:35', '130.09', '124.81', '127.58', '130.05 x 900', '130.11 x 1000', '126.00 - 131.00', '51.06 - 131.00', '180,990,264', '157,942,400']\n['2020-08-31 21:09:51', '130.12', '124.81', '127.58', '130.05 x 900', '130.11 x 1000', '126.00 - 131.00', '51.06 - 131.00', '181,039,913', '157,942,400']\n['2020-08-31 21:10:06', '130.09', '124.81', '127.58', '130.10 x 800', '130.07 x 800', '126.00 - 131.00', '51.06 - 131.00', '181,111,925', '157,942,400']\n['2020-08-31 21:10:21', '130.08', '124.81', '127.58', '130.10 x 800', '130.07 x 800', '126.00 - 131.00', '51.06 - 131.00', '181,198,122', '157,942,400']\n['2020-08-31 21:10:35', '130.04', '124.81', '127.58', '130.10 x 800', '130.07 x 800', '126.00 - 131.00', '51.06 - 131.00', '181,261,646', '157,942,400']\n['2020-08-31 21:10:47', '130.04', '124.81', '127.58', '130.04 x 800', '130.07 x 800', '126.00 - 131.00', '51.06 - 131.00', '181,310,748', '157,942,400']\n['2020-08-31 21:11:07', '130.03', '124.81', '127.58', '130.04 x 800', '130.04 x 800', '126.00 - 131.00', '51.06 - 131.00', '181,382,326', '157,942,400']\n['2020-08-31 21:11:23', '130.05', '124.81', '127.58', '130.04 x 800', '130.04 x 800', '126.00 - 131.00', '51.06 - 131.00', '181,453,047', '157,942,400']\n['2020-08-31 21:11:39', '130.07', '124.81', '127.58', '130.05 x 800', '130.04 x 800', '126.00 - 131.00', '51.06 - 131.00', '181,498,708', '157,942,400']\n"
    },
    {
     "output_type": "error",
     "ename": "KeyboardInterrupt",
     "evalue": "",
     "traceback": [
      "\u001b[1;31m---------------------------------------------------------------------------\u001b[0m",
      "\u001b[1;31mKeyboardInterrupt\u001b[0m                         Traceback (most recent call last)",
      "\u001b[1;32m<ipython-input-5-ccb2f48c5e5d>\u001b[0m in \u001b[0;36m<module>\u001b[1;34m\u001b[0m\n\u001b[0;32m      7\u001b[0m \u001b[1;33m\u001b[0m\u001b[0m\n\u001b[0;32m      8\u001b[0m     \u001b[1;32mfor\u001b[0m \u001b[0mstock_code\u001b[0m \u001b[1;32min\u001b[0m \u001b[0mHSI\u001b[0m\u001b[1;33m:\u001b[0m\u001b[1;33m\u001b[0m\u001b[1;33m\u001b[0m\u001b[0m\n\u001b[1;32m----> 9\u001b[1;33m             \u001b[0mprice\u001b[0m\u001b[1;33m.\u001b[0m\u001b[0mappend\u001b[0m\u001b[1;33m(\u001b[0m\u001b[0mreal_time_price\u001b[0m\u001b[1;33m(\u001b[0m\u001b[0mstock_code\u001b[0m\u001b[1;33m)\u001b[0m\u001b[1;33m)\u001b[0m\u001b[1;33m\u001b[0m\u001b[1;33m\u001b[0m\u001b[0m\n\u001b[0m\u001b[0;32m     10\u001b[0m \u001b[1;33m\u001b[0m\u001b[0m\n\u001b[0;32m     11\u001b[0m     \u001b[1;32mwith\u001b[0m \u001b[0mopen\u001b[0m\u001b[1;33m(\u001b[0m\u001b[1;34m'APPLE Streaming.csv'\u001b[0m\u001b[1;33m,\u001b[0m \u001b[1;34m'w'\u001b[0m\u001b[1;33m)\u001b[0m \u001b[1;32mas\u001b[0m \u001b[0moutcsv\u001b[0m\u001b[1;33m:\u001b[0m\u001b[1;33m\u001b[0m\u001b[1;33m\u001b[0m\u001b[0m\n",
      "\u001b[1;32m<ipython-input-3-ca54ef2a4b5d>\u001b[0m in \u001b[0;36mreal_time_price\u001b[1;34m(stock_code)\u001b[0m\n\u001b[0;32m      1\u001b[0m \u001b[1;32mdef\u001b[0m \u001b[0mreal_time_price\u001b[0m\u001b[1;33m(\u001b[0m\u001b[0mstock_code\u001b[0m\u001b[1;33m)\u001b[0m\u001b[1;33m:\u001b[0m\u001b[1;33m\u001b[0m\u001b[1;33m\u001b[0m\u001b[0m\n\u001b[0;32m      2\u001b[0m         \u001b[0murl\u001b[0m\u001b[1;33m=\u001b[0m\u001b[1;33m(\u001b[0m\u001b[1;34m'https://finance.yahoo.com/quote/AAPL?p=AAPL&.tsrc=fin-srch'\u001b[0m\u001b[1;33m)\u001b[0m\u001b[1;33m\u001b[0m\u001b[1;33m\u001b[0m\u001b[0m\n\u001b[1;32m----> 3\u001b[1;33m         \u001b[0mr\u001b[0m\u001b[1;33m=\u001b[0m\u001b[0mrequests\u001b[0m\u001b[1;33m.\u001b[0m\u001b[0mget\u001b[0m\u001b[1;33m(\u001b[0m\u001b[0murl\u001b[0m\u001b[1;33m)\u001b[0m\u001b[1;33m\u001b[0m\u001b[1;33m\u001b[0m\u001b[0m\n\u001b[0m\u001b[0;32m      4\u001b[0m         \u001b[0msoup\u001b[0m\u001b[1;33m=\u001b[0m\u001b[0mBeautifulSoup\u001b[0m\u001b[1;33m(\u001b[0m\u001b[0mr\u001b[0m\u001b[1;33m.\u001b[0m\u001b[0mtext\u001b[0m\u001b[1;33m,\u001b[0m\u001b[1;34m'lxml'\u001b[0m\u001b[1;33m)\u001b[0m\u001b[1;33m\u001b[0m\u001b[1;33m\u001b[0m\u001b[0m\n\u001b[0;32m      5\u001b[0m         \u001b[1;31m# if stock_code=='Prix':\u001b[0m\u001b[1;33m\u001b[0m\u001b[1;33m\u001b[0m\u001b[1;33m\u001b[0m\u001b[0m\n",
      "\u001b[1;32mC:\\Python\\Python38\\lib\\site-packages\\requests\\api.py\u001b[0m in \u001b[0;36mget\u001b[1;34m(url, params, **kwargs)\u001b[0m\n\u001b[0;32m     74\u001b[0m \u001b[1;33m\u001b[0m\u001b[0m\n\u001b[0;32m     75\u001b[0m     \u001b[0mkwargs\u001b[0m\u001b[1;33m.\u001b[0m\u001b[0msetdefault\u001b[0m\u001b[1;33m(\u001b[0m\u001b[1;34m'allow_redirects'\u001b[0m\u001b[1;33m,\u001b[0m \u001b[1;32mTrue\u001b[0m\u001b[1;33m)\u001b[0m\u001b[1;33m\u001b[0m\u001b[1;33m\u001b[0m\u001b[0m\n\u001b[1;32m---> 76\u001b[1;33m     \u001b[1;32mreturn\u001b[0m \u001b[0mrequest\u001b[0m\u001b[1;33m(\u001b[0m\u001b[1;34m'get'\u001b[0m\u001b[1;33m,\u001b[0m \u001b[0murl\u001b[0m\u001b[1;33m,\u001b[0m \u001b[0mparams\u001b[0m\u001b[1;33m=\u001b[0m\u001b[0mparams\u001b[0m\u001b[1;33m,\u001b[0m \u001b[1;33m**\u001b[0m\u001b[0mkwargs\u001b[0m\u001b[1;33m)\u001b[0m\u001b[1;33m\u001b[0m\u001b[1;33m\u001b[0m\u001b[0m\n\u001b[0m\u001b[0;32m     77\u001b[0m \u001b[1;33m\u001b[0m\u001b[0m\n\u001b[0;32m     78\u001b[0m \u001b[1;33m\u001b[0m\u001b[0m\n",
      "\u001b[1;32mC:\\Python\\Python38\\lib\\site-packages\\requests\\api.py\u001b[0m in \u001b[0;36mrequest\u001b[1;34m(method, url, **kwargs)\u001b[0m\n\u001b[0;32m     59\u001b[0m     \u001b[1;31m# cases, and look like a memory leak in others.\u001b[0m\u001b[1;33m\u001b[0m\u001b[1;33m\u001b[0m\u001b[1;33m\u001b[0m\u001b[0m\n\u001b[0;32m     60\u001b[0m     \u001b[1;32mwith\u001b[0m \u001b[0msessions\u001b[0m\u001b[1;33m.\u001b[0m\u001b[0mSession\u001b[0m\u001b[1;33m(\u001b[0m\u001b[1;33m)\u001b[0m \u001b[1;32mas\u001b[0m \u001b[0msession\u001b[0m\u001b[1;33m:\u001b[0m\u001b[1;33m\u001b[0m\u001b[1;33m\u001b[0m\u001b[0m\n\u001b[1;32m---> 61\u001b[1;33m         \u001b[1;32mreturn\u001b[0m \u001b[0msession\u001b[0m\u001b[1;33m.\u001b[0m\u001b[0mrequest\u001b[0m\u001b[1;33m(\u001b[0m\u001b[0mmethod\u001b[0m\u001b[1;33m=\u001b[0m\u001b[0mmethod\u001b[0m\u001b[1;33m,\u001b[0m \u001b[0murl\u001b[0m\u001b[1;33m=\u001b[0m\u001b[0murl\u001b[0m\u001b[1;33m,\u001b[0m \u001b[1;33m**\u001b[0m\u001b[0mkwargs\u001b[0m\u001b[1;33m)\u001b[0m\u001b[1;33m\u001b[0m\u001b[1;33m\u001b[0m\u001b[0m\n\u001b[0m\u001b[0;32m     62\u001b[0m \u001b[1;33m\u001b[0m\u001b[0m\n\u001b[0;32m     63\u001b[0m \u001b[1;33m\u001b[0m\u001b[0m\n",
      "\u001b[1;32mC:\\Python\\Python38\\lib\\site-packages\\requests\\sessions.py\u001b[0m in \u001b[0;36mrequest\u001b[1;34m(self, method, url, params, data, headers, cookies, files, auth, timeout, allow_redirects, proxies, hooks, stream, verify, cert, json)\u001b[0m\n\u001b[0;32m    528\u001b[0m         }\n\u001b[0;32m    529\u001b[0m         \u001b[0msend_kwargs\u001b[0m\u001b[1;33m.\u001b[0m\u001b[0mupdate\u001b[0m\u001b[1;33m(\u001b[0m\u001b[0msettings\u001b[0m\u001b[1;33m)\u001b[0m\u001b[1;33m\u001b[0m\u001b[1;33m\u001b[0m\u001b[0m\n\u001b[1;32m--> 530\u001b[1;33m         \u001b[0mresp\u001b[0m \u001b[1;33m=\u001b[0m \u001b[0mself\u001b[0m\u001b[1;33m.\u001b[0m\u001b[0msend\u001b[0m\u001b[1;33m(\u001b[0m\u001b[0mprep\u001b[0m\u001b[1;33m,\u001b[0m \u001b[1;33m**\u001b[0m\u001b[0msend_kwargs\u001b[0m\u001b[1;33m)\u001b[0m\u001b[1;33m\u001b[0m\u001b[1;33m\u001b[0m\u001b[0m\n\u001b[0m\u001b[0;32m    531\u001b[0m \u001b[1;33m\u001b[0m\u001b[0m\n\u001b[0;32m    532\u001b[0m         \u001b[1;32mreturn\u001b[0m \u001b[0mresp\u001b[0m\u001b[1;33m\u001b[0m\u001b[1;33m\u001b[0m\u001b[0m\n",
      "\u001b[1;32mC:\\Python\\Python38\\lib\\site-packages\\requests\\sessions.py\u001b[0m in \u001b[0;36msend\u001b[1;34m(self, request, **kwargs)\u001b[0m\n\u001b[0;32m    683\u001b[0m \u001b[1;33m\u001b[0m\u001b[0m\n\u001b[0;32m    684\u001b[0m         \u001b[1;32mif\u001b[0m \u001b[1;32mnot\u001b[0m \u001b[0mstream\u001b[0m\u001b[1;33m:\u001b[0m\u001b[1;33m\u001b[0m\u001b[1;33m\u001b[0m\u001b[0m\n\u001b[1;32m--> 685\u001b[1;33m             \u001b[0mr\u001b[0m\u001b[1;33m.\u001b[0m\u001b[0mcontent\u001b[0m\u001b[1;33m\u001b[0m\u001b[1;33m\u001b[0m\u001b[0m\n\u001b[0m\u001b[0;32m    686\u001b[0m \u001b[1;33m\u001b[0m\u001b[0m\n\u001b[0;32m    687\u001b[0m         \u001b[1;32mreturn\u001b[0m \u001b[0mr\u001b[0m\u001b[1;33m\u001b[0m\u001b[1;33m\u001b[0m\u001b[0m\n",
      "\u001b[1;32mC:\\Python\\Python38\\lib\\site-packages\\requests\\models.py\u001b[0m in \u001b[0;36mcontent\u001b[1;34m(self)\u001b[0m\n\u001b[0;32m    827\u001b[0m                 \u001b[0mself\u001b[0m\u001b[1;33m.\u001b[0m\u001b[0m_content\u001b[0m \u001b[1;33m=\u001b[0m \u001b[1;32mNone\u001b[0m\u001b[1;33m\u001b[0m\u001b[1;33m\u001b[0m\u001b[0m\n\u001b[0;32m    828\u001b[0m             \u001b[1;32melse\u001b[0m\u001b[1;33m:\u001b[0m\u001b[1;33m\u001b[0m\u001b[1;33m\u001b[0m\u001b[0m\n\u001b[1;32m--> 829\u001b[1;33m                 \u001b[0mself\u001b[0m\u001b[1;33m.\u001b[0m\u001b[0m_content\u001b[0m \u001b[1;33m=\u001b[0m \u001b[1;34mb''\u001b[0m\u001b[1;33m.\u001b[0m\u001b[0mjoin\u001b[0m\u001b[1;33m(\u001b[0m\u001b[0mself\u001b[0m\u001b[1;33m.\u001b[0m\u001b[0miter_content\u001b[0m\u001b[1;33m(\u001b[0m\u001b[0mCONTENT_CHUNK_SIZE\u001b[0m\u001b[1;33m)\u001b[0m\u001b[1;33m)\u001b[0m \u001b[1;32mor\u001b[0m \u001b[1;34mb''\u001b[0m\u001b[1;33m\u001b[0m\u001b[1;33m\u001b[0m\u001b[0m\n\u001b[0m\u001b[0;32m    830\u001b[0m \u001b[1;33m\u001b[0m\u001b[0m\n\u001b[0;32m    831\u001b[0m         \u001b[0mself\u001b[0m\u001b[1;33m.\u001b[0m\u001b[0m_content_consumed\u001b[0m \u001b[1;33m=\u001b[0m \u001b[1;32mTrue\u001b[0m\u001b[1;33m\u001b[0m\u001b[1;33m\u001b[0m\u001b[0m\n",
      "\u001b[1;32mC:\\Python\\Python38\\lib\\site-packages\\requests\\models.py\u001b[0m in \u001b[0;36mgenerate\u001b[1;34m()\u001b[0m\n\u001b[0;32m    749\u001b[0m             \u001b[1;32mif\u001b[0m \u001b[0mhasattr\u001b[0m\u001b[1;33m(\u001b[0m\u001b[0mself\u001b[0m\u001b[1;33m.\u001b[0m\u001b[0mraw\u001b[0m\u001b[1;33m,\u001b[0m \u001b[1;34m'stream'\u001b[0m\u001b[1;33m)\u001b[0m\u001b[1;33m:\u001b[0m\u001b[1;33m\u001b[0m\u001b[1;33m\u001b[0m\u001b[0m\n\u001b[0;32m    750\u001b[0m                 \u001b[1;32mtry\u001b[0m\u001b[1;33m:\u001b[0m\u001b[1;33m\u001b[0m\u001b[1;33m\u001b[0m\u001b[0m\n\u001b[1;32m--> 751\u001b[1;33m                     \u001b[1;32mfor\u001b[0m \u001b[0mchunk\u001b[0m \u001b[1;32min\u001b[0m \u001b[0mself\u001b[0m\u001b[1;33m.\u001b[0m\u001b[0mraw\u001b[0m\u001b[1;33m.\u001b[0m\u001b[0mstream\u001b[0m\u001b[1;33m(\u001b[0m\u001b[0mchunk_size\u001b[0m\u001b[1;33m,\u001b[0m \u001b[0mdecode_content\u001b[0m\u001b[1;33m=\u001b[0m\u001b[1;32mTrue\u001b[0m\u001b[1;33m)\u001b[0m\u001b[1;33m:\u001b[0m\u001b[1;33m\u001b[0m\u001b[1;33m\u001b[0m\u001b[0m\n\u001b[0m\u001b[0;32m    752\u001b[0m                         \u001b[1;32myield\u001b[0m \u001b[0mchunk\u001b[0m\u001b[1;33m\u001b[0m\u001b[1;33m\u001b[0m\u001b[0m\n\u001b[0;32m    753\u001b[0m                 \u001b[1;32mexcept\u001b[0m \u001b[0mProtocolError\u001b[0m \u001b[1;32mas\u001b[0m \u001b[0me\u001b[0m\u001b[1;33m:\u001b[0m\u001b[1;33m\u001b[0m\u001b[1;33m\u001b[0m\u001b[0m\n",
      "\u001b[1;32mC:\\Python\\Python38\\lib\\site-packages\\urllib3\\response.py\u001b[0m in \u001b[0;36mstream\u001b[1;34m(self, amt, decode_content)\u001b[0m\n\u001b[0;32m    569\u001b[0m         \"\"\"\n\u001b[0;32m    570\u001b[0m         \u001b[1;32mif\u001b[0m \u001b[0mself\u001b[0m\u001b[1;33m.\u001b[0m\u001b[0mchunked\u001b[0m \u001b[1;32mand\u001b[0m \u001b[0mself\u001b[0m\u001b[1;33m.\u001b[0m\u001b[0msupports_chunked_reads\u001b[0m\u001b[1;33m(\u001b[0m\u001b[1;33m)\u001b[0m\u001b[1;33m:\u001b[0m\u001b[1;33m\u001b[0m\u001b[1;33m\u001b[0m\u001b[0m\n\u001b[1;32m--> 571\u001b[1;33m             \u001b[1;32mfor\u001b[0m \u001b[0mline\u001b[0m \u001b[1;32min\u001b[0m \u001b[0mself\u001b[0m\u001b[1;33m.\u001b[0m\u001b[0mread_chunked\u001b[0m\u001b[1;33m(\u001b[0m\u001b[0mamt\u001b[0m\u001b[1;33m,\u001b[0m \u001b[0mdecode_content\u001b[0m\u001b[1;33m=\u001b[0m\u001b[0mdecode_content\u001b[0m\u001b[1;33m)\u001b[0m\u001b[1;33m:\u001b[0m\u001b[1;33m\u001b[0m\u001b[1;33m\u001b[0m\u001b[0m\n\u001b[0m\u001b[0;32m    572\u001b[0m                 \u001b[1;32myield\u001b[0m \u001b[0mline\u001b[0m\u001b[1;33m\u001b[0m\u001b[1;33m\u001b[0m\u001b[0m\n\u001b[0;32m    573\u001b[0m         \u001b[1;32melse\u001b[0m\u001b[1;33m:\u001b[0m\u001b[1;33m\u001b[0m\u001b[1;33m\u001b[0m\u001b[0m\n",
      "\u001b[1;32mC:\\Python\\Python38\\lib\\site-packages\\urllib3\\response.py\u001b[0m in \u001b[0;36mread_chunked\u001b[1;34m(self, amt, decode_content)\u001b[0m\n\u001b[0;32m    764\u001b[0m                 \u001b[1;32mif\u001b[0m \u001b[0mself\u001b[0m\u001b[1;33m.\u001b[0m\u001b[0mchunk_left\u001b[0m \u001b[1;33m==\u001b[0m \u001b[1;36m0\u001b[0m\u001b[1;33m:\u001b[0m\u001b[1;33m\u001b[0m\u001b[1;33m\u001b[0m\u001b[0m\n\u001b[0;32m    765\u001b[0m                     \u001b[1;32mbreak\u001b[0m\u001b[1;33m\u001b[0m\u001b[1;33m\u001b[0m\u001b[0m\n\u001b[1;32m--> 766\u001b[1;33m                 \u001b[0mchunk\u001b[0m \u001b[1;33m=\u001b[0m \u001b[0mself\u001b[0m\u001b[1;33m.\u001b[0m\u001b[0m_handle_chunk\u001b[0m\u001b[1;33m(\u001b[0m\u001b[0mamt\u001b[0m\u001b[1;33m)\u001b[0m\u001b[1;33m\u001b[0m\u001b[1;33m\u001b[0m\u001b[0m\n\u001b[0m\u001b[0;32m    767\u001b[0m                 decoded = self._decode(\n\u001b[0;32m    768\u001b[0m                     \u001b[0mchunk\u001b[0m\u001b[1;33m,\u001b[0m \u001b[0mdecode_content\u001b[0m\u001b[1;33m=\u001b[0m\u001b[0mdecode_content\u001b[0m\u001b[1;33m,\u001b[0m \u001b[0mflush_decoder\u001b[0m\u001b[1;33m=\u001b[0m\u001b[1;32mFalse\u001b[0m\u001b[1;33m\u001b[0m\u001b[1;33m\u001b[0m\u001b[0m\n",
      "\u001b[1;32mC:\\Python\\Python38\\lib\\site-packages\\urllib3\\response.py\u001b[0m in \u001b[0;36m_handle_chunk\u001b[1;34m(self, amt)\u001b[0m\n\u001b[0;32m    708\u001b[0m             \u001b[0mself\u001b[0m\u001b[1;33m.\u001b[0m\u001b[0mchunk_left\u001b[0m \u001b[1;33m=\u001b[0m \u001b[1;32mNone\u001b[0m\u001b[1;33m\u001b[0m\u001b[1;33m\u001b[0m\u001b[0m\n\u001b[0;32m    709\u001b[0m         \u001b[1;32melif\u001b[0m \u001b[0mamt\u001b[0m \u001b[1;33m<\u001b[0m \u001b[0mself\u001b[0m\u001b[1;33m.\u001b[0m\u001b[0mchunk_left\u001b[0m\u001b[1;33m:\u001b[0m\u001b[1;33m\u001b[0m\u001b[1;33m\u001b[0m\u001b[0m\n\u001b[1;32m--> 710\u001b[1;33m             \u001b[0mvalue\u001b[0m \u001b[1;33m=\u001b[0m \u001b[0mself\u001b[0m\u001b[1;33m.\u001b[0m\u001b[0m_fp\u001b[0m\u001b[1;33m.\u001b[0m\u001b[0m_safe_read\u001b[0m\u001b[1;33m(\u001b[0m\u001b[0mamt\u001b[0m\u001b[1;33m)\u001b[0m\u001b[1;33m\u001b[0m\u001b[1;33m\u001b[0m\u001b[0m\n\u001b[0m\u001b[0;32m    711\u001b[0m             \u001b[0mself\u001b[0m\u001b[1;33m.\u001b[0m\u001b[0mchunk_left\u001b[0m \u001b[1;33m=\u001b[0m \u001b[0mself\u001b[0m\u001b[1;33m.\u001b[0m\u001b[0mchunk_left\u001b[0m \u001b[1;33m-\u001b[0m \u001b[0mamt\u001b[0m\u001b[1;33m\u001b[0m\u001b[1;33m\u001b[0m\u001b[0m\n\u001b[0;32m    712\u001b[0m             \u001b[0mreturned_chunk\u001b[0m \u001b[1;33m=\u001b[0m \u001b[0mvalue\u001b[0m\u001b[1;33m\u001b[0m\u001b[1;33m\u001b[0m\u001b[0m\n",
      "\u001b[1;32mC:\\Python\\Python38\\lib\\http\\client.py\u001b[0m in \u001b[0;36m_safe_read\u001b[1;34m(self, amt)\u001b[0m\n\u001b[0;32m    610\u001b[0m         \u001b[0mIncompleteRead\u001b[0m \u001b[0mexception\u001b[0m \u001b[0mcan\u001b[0m \u001b[0mbe\u001b[0m \u001b[0mused\u001b[0m \u001b[0mto\u001b[0m \u001b[0mdetect\u001b[0m \u001b[0mthe\u001b[0m \u001b[0mproblem\u001b[0m\u001b[1;33m.\u001b[0m\u001b[1;33m\u001b[0m\u001b[1;33m\u001b[0m\u001b[0m\n\u001b[0;32m    611\u001b[0m         \"\"\"\n\u001b[1;32m--> 612\u001b[1;33m         \u001b[0mdata\u001b[0m \u001b[1;33m=\u001b[0m \u001b[0mself\u001b[0m\u001b[1;33m.\u001b[0m\u001b[0mfp\u001b[0m\u001b[1;33m.\u001b[0m\u001b[0mread\u001b[0m\u001b[1;33m(\u001b[0m\u001b[0mamt\u001b[0m\u001b[1;33m)\u001b[0m\u001b[1;33m\u001b[0m\u001b[1;33m\u001b[0m\u001b[0m\n\u001b[0m\u001b[0;32m    613\u001b[0m         \u001b[1;32mif\u001b[0m \u001b[0mlen\u001b[0m\u001b[1;33m(\u001b[0m\u001b[0mdata\u001b[0m\u001b[1;33m)\u001b[0m \u001b[1;33m<\u001b[0m \u001b[0mamt\u001b[0m\u001b[1;33m:\u001b[0m\u001b[1;33m\u001b[0m\u001b[1;33m\u001b[0m\u001b[0m\n\u001b[0;32m    614\u001b[0m             \u001b[1;32mraise\u001b[0m \u001b[0mIncompleteRead\u001b[0m\u001b[1;33m(\u001b[0m\u001b[0mdata\u001b[0m\u001b[1;33m,\u001b[0m \u001b[0mamt\u001b[0m\u001b[1;33m-\u001b[0m\u001b[0mlen\u001b[0m\u001b[1;33m(\u001b[0m\u001b[0mdata\u001b[0m\u001b[1;33m)\u001b[0m\u001b[1;33m)\u001b[0m\u001b[1;33m\u001b[0m\u001b[1;33m\u001b[0m\u001b[0m\n",
      "\u001b[1;32mC:\\Python\\Python38\\lib\\socket.py\u001b[0m in \u001b[0;36mreadinto\u001b[1;34m(self, b)\u001b[0m\n\u001b[0;32m    667\u001b[0m         \u001b[1;32mwhile\u001b[0m \u001b[1;32mTrue\u001b[0m\u001b[1;33m:\u001b[0m\u001b[1;33m\u001b[0m\u001b[1;33m\u001b[0m\u001b[0m\n\u001b[0;32m    668\u001b[0m             \u001b[1;32mtry\u001b[0m\u001b[1;33m:\u001b[0m\u001b[1;33m\u001b[0m\u001b[1;33m\u001b[0m\u001b[0m\n\u001b[1;32m--> 669\u001b[1;33m                 \u001b[1;32mreturn\u001b[0m \u001b[0mself\u001b[0m\u001b[1;33m.\u001b[0m\u001b[0m_sock\u001b[0m\u001b[1;33m.\u001b[0m\u001b[0mrecv_into\u001b[0m\u001b[1;33m(\u001b[0m\u001b[0mb\u001b[0m\u001b[1;33m)\u001b[0m\u001b[1;33m\u001b[0m\u001b[1;33m\u001b[0m\u001b[0m\n\u001b[0m\u001b[0;32m    670\u001b[0m             \u001b[1;32mexcept\u001b[0m \u001b[0mtimeout\u001b[0m\u001b[1;33m:\u001b[0m\u001b[1;33m\u001b[0m\u001b[1;33m\u001b[0m\u001b[0m\n\u001b[0;32m    671\u001b[0m                 \u001b[0mself\u001b[0m\u001b[1;33m.\u001b[0m\u001b[0m_timeout_occurred\u001b[0m \u001b[1;33m=\u001b[0m \u001b[1;32mTrue\u001b[0m\u001b[1;33m\u001b[0m\u001b[1;33m\u001b[0m\u001b[0m\n",
      "\u001b[1;32mC:\\Python\\Python38\\lib\\ssl.py\u001b[0m in \u001b[0;36mrecv_into\u001b[1;34m(self, buffer, nbytes, flags)\u001b[0m\n\u001b[0;32m   1239\u001b[0m                   \u001b[1;34m\"non-zero flags not allowed in calls to recv_into() on %s\"\u001b[0m \u001b[1;33m%\u001b[0m\u001b[1;33m\u001b[0m\u001b[1;33m\u001b[0m\u001b[0m\n\u001b[0;32m   1240\u001b[0m                   self.__class__)\n\u001b[1;32m-> 1241\u001b[1;33m             \u001b[1;32mreturn\u001b[0m \u001b[0mself\u001b[0m\u001b[1;33m.\u001b[0m\u001b[0mread\u001b[0m\u001b[1;33m(\u001b[0m\u001b[0mnbytes\u001b[0m\u001b[1;33m,\u001b[0m \u001b[0mbuffer\u001b[0m\u001b[1;33m)\u001b[0m\u001b[1;33m\u001b[0m\u001b[1;33m\u001b[0m\u001b[0m\n\u001b[0m\u001b[0;32m   1242\u001b[0m         \u001b[1;32melse\u001b[0m\u001b[1;33m:\u001b[0m\u001b[1;33m\u001b[0m\u001b[1;33m\u001b[0m\u001b[0m\n\u001b[0;32m   1243\u001b[0m             \u001b[1;32mreturn\u001b[0m \u001b[0msuper\u001b[0m\u001b[1;33m(\u001b[0m\u001b[1;33m)\u001b[0m\u001b[1;33m.\u001b[0m\u001b[0mrecv_into\u001b[0m\u001b[1;33m(\u001b[0m\u001b[0mbuffer\u001b[0m\u001b[1;33m,\u001b[0m \u001b[0mnbytes\u001b[0m\u001b[1;33m,\u001b[0m \u001b[0mflags\u001b[0m\u001b[1;33m)\u001b[0m\u001b[1;33m\u001b[0m\u001b[1;33m\u001b[0m\u001b[0m\n",
      "\u001b[1;32mC:\\Python\\Python38\\lib\\ssl.py\u001b[0m in \u001b[0;36mread\u001b[1;34m(self, len, buffer)\u001b[0m\n\u001b[0;32m   1097\u001b[0m         \u001b[1;32mtry\u001b[0m\u001b[1;33m:\u001b[0m\u001b[1;33m\u001b[0m\u001b[1;33m\u001b[0m\u001b[0m\n\u001b[0;32m   1098\u001b[0m             \u001b[1;32mif\u001b[0m \u001b[0mbuffer\u001b[0m \u001b[1;32mis\u001b[0m \u001b[1;32mnot\u001b[0m \u001b[1;32mNone\u001b[0m\u001b[1;33m:\u001b[0m\u001b[1;33m\u001b[0m\u001b[1;33m\u001b[0m\u001b[0m\n\u001b[1;32m-> 1099\u001b[1;33m                 \u001b[1;32mreturn\u001b[0m \u001b[0mself\u001b[0m\u001b[1;33m.\u001b[0m\u001b[0m_sslobj\u001b[0m\u001b[1;33m.\u001b[0m\u001b[0mread\u001b[0m\u001b[1;33m(\u001b[0m\u001b[0mlen\u001b[0m\u001b[1;33m,\u001b[0m \u001b[0mbuffer\u001b[0m\u001b[1;33m)\u001b[0m\u001b[1;33m\u001b[0m\u001b[1;33m\u001b[0m\u001b[0m\n\u001b[0m\u001b[0;32m   1100\u001b[0m             \u001b[1;32melse\u001b[0m\u001b[1;33m:\u001b[0m\u001b[1;33m\u001b[0m\u001b[1;33m\u001b[0m\u001b[0m\n\u001b[0;32m   1101\u001b[0m                 \u001b[1;32mreturn\u001b[0m \u001b[0mself\u001b[0m\u001b[1;33m.\u001b[0m\u001b[0m_sslobj\u001b[0m\u001b[1;33m.\u001b[0m\u001b[0mread\u001b[0m\u001b[1;33m(\u001b[0m\u001b[0mlen\u001b[0m\u001b[1;33m)\u001b[0m\u001b[1;33m\u001b[0m\u001b[1;33m\u001b[0m\u001b[0m\n",
      "\u001b[1;31mKeyboardInterrupt\u001b[0m: "
     ]
    }
   ],
   "source": [
    "#for step in range(1,2):\n",
    "while True:\n",
    "    price =[]\n",
    "    col =[]\n",
    "    time_stamp=datetime.datetime.now()\n",
    "    time_stamp=time_stamp.strftime(\"%Y-%m-%d %H:%M:%S\")\n",
    "\n",
    "    for stock_code in HSI:\n",
    "            price.append(real_time_price(stock_code))\n",
    "\n",
    "    with open('APPLE Streaming.csv', 'w') as outcsv:\n",
    "        headerrr=['Ind','Date','Taux Instantanee','Previous Close','Open','Bid','Ask','Day Range','Week Range 52','Volume','Avg Volume']\n",
    " #   headerrr=['indice','time','Taux_instantanee','Change_instantanee','Previous_Close']\n",
    "        writer = csv.DictWriter(outcsv, fieldnames = headerrr)\n",
    "        writer.writeheader()\n",
    "\n",
    "    col= [time_stamp]\n",
    "    col.extend(price)\n",
    "    df=pd.DataFrame(col)\n",
    "    df=df.T\n",
    "    df.to_csv('APPLE Streaming.csv',mode='a',header=False)\n",
    "    print(col)"
   ]
  },
  {
   "cell_type": "code",
   "execution_count": 54,
   "metadata": {},
   "outputs": [
    {
     "output_type": "execute_result",
     "data": {
      "text/plain": "   indice                 time  Taux_instantanee Change_instantanee  \\\n0       0  2020-08-06 21:26:01             89.21   -19.71 (-18.10%)   \n1       0  2020-08-06 21:26:16             89.17   -19.76 (-18.14%)   \n\n   Previous_Close   Open           Bid           Ask      Day_Range  \\\n0          108.92  89.81  88.99 x 1300  88.97 x 1400  85.52 - 94.00   \n1          108.92  89.81  88.99 x 1300  88.97 x 1400  85.52 - 94.00   \n\n    Week_Range_52      Volume Avg Volume  \n0  10.63 - 117.79  27,185,051  8,984,606  \n1  10.63 - 117.79  27,194,502  8,984,390  ",
      "text/html": "<div>\n<style scoped>\n    .dataframe tbody tr th:only-of-type {\n        vertical-align: middle;\n    }\n\n    .dataframe tbody tr th {\n        vertical-align: top;\n    }\n\n    .dataframe thead th {\n        text-align: right;\n    }\n</style>\n<table border=\"1\" class=\"dataframe\">\n  <thead>\n    <tr style=\"text-align: right;\">\n      <th></th>\n      <th>indice</th>\n      <th>time</th>\n      <th>Taux_instantanee</th>\n      <th>Change_instantanee</th>\n      <th>Previous_Close</th>\n      <th>Open</th>\n      <th>Bid</th>\n      <th>Ask</th>\n      <th>Day_Range</th>\n      <th>Week_Range_52</th>\n      <th>Volume</th>\n      <th>Avg Volume</th>\n    </tr>\n  </thead>\n  <tbody>\n    <tr>\n      <th>0</th>\n      <td>0</td>\n      <td>2020-08-06 21:26:01</td>\n      <td>89.21</td>\n      <td>-19.71 (-18.10%)</td>\n      <td>108.92</td>\n      <td>89.81</td>\n      <td>88.99 x 1300</td>\n      <td>88.97 x 1400</td>\n      <td>85.52 - 94.00</td>\n      <td>10.63 - 117.79</td>\n      <td>27,185,051</td>\n      <td>8,984,606</td>\n    </tr>\n    <tr>\n      <th>1</th>\n      <td>0</td>\n      <td>2020-08-06 21:26:16</td>\n      <td>89.17</td>\n      <td>-19.76 (-18.14%)</td>\n      <td>108.92</td>\n      <td>89.81</td>\n      <td>88.99 x 1300</td>\n      <td>88.97 x 1400</td>\n      <td>85.52 - 94.00</td>\n      <td>10.63 - 117.79</td>\n      <td>27,194,502</td>\n      <td>8,984,390</td>\n    </tr>\n  </tbody>\n</table>\n</div>"
     },
     "metadata": {},
     "execution_count": 54
    }
   ],
   "source": [
    "import pandas as p\n",
    "df2=p.read_csv('StreamingAPPLE.csv')\n",
    "df2"
   ]
  },
  {
   "cell_type": "code",
   "execution_count": null,
   "metadata": {},
   "outputs": [],
   "source": []
  }
 ]
}